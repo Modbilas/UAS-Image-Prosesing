{
 "cells": [
  {
   "cell_type": "code",
   "execution_count": 16,
   "id": "479c4291-b0d8-453c-a2d2-cc6011581a1d",
   "metadata": {
    "tags": []
   },
   "outputs": [],
   "source": [
    "import os\n",
    "import matplotlib.pyplot as plt\n",
    "import tensorflow as tf\n",
    "from tensorflow.keras import layers\n",
    "from tensorflow.keras import Model\n",
    "from tensorflow.keras.optimizers import RMSprop\n",
    "from tensorflow.keras.preprocessing.image import ImageDataGenerator\n",
    "from tensorflow.keras.utils import img_to_array, load_img"
   ]
  },
  {
   "cell_type": "code",
   "execution_count": 17,
   "id": "c700d347-834d-4c62-9ccd-8b336c9386b8",
   "metadata": {
    "tags": []
   },
   "outputs": [],
   "source": [
    "train_dir = \"./archive/train/\"\n",
    "train_angry_dir = os.path.join(train_dir, 'angry')\n",
    "train_disgusted_dir = os.path.join(train_dir, 'disgusted')\n",
    "train_fearful_dir = os.path.join(train_dir, 'fearful')\n",
    "train_happy_dir = os.path.join(train_dir, 'happy')\n",
    "train_neutral_dir = os.path.join(train_dir, 'neutral')\n",
    "train_sad_dir = os.path.join(train_dir, 'sad')\n",
    "train_surprised_dir = os.path.join(train_dir, 'surprised')  # Corrected directory name"
   ]
  },
  {
   "cell_type": "code",
   "execution_count": 19,
   "id": "c630ce86-1326-4a87-be5b-3d744ad0c20e",
   "metadata": {
    "tags": []
   },
   "outputs": [
    {
     "ename": "SyntaxError",
     "evalue": "unmatched ')' (4231631414.py, line 2)",
     "output_type": "error",
     "traceback": [
      "\u001b[1;36m  Cell \u001b[1;32mIn[19], line 2\u001b[1;36m\u001b[0m\n\u001b[1;33m    test_resolution = load_img(f\"{os.path.join(train_angry_dir, os.listdir(train_angry_dir)[0])}\"))\u001b[0m\n\u001b[1;37m                                                                                                  ^\u001b[0m\n\u001b[1;31mSyntaxError\u001b[0m\u001b[1;31m:\u001b[0m unmatched ')'\n"
     ]
    }
   ],
   "source": [
    "print(\"Sample marah image:\")\n",
    "test_resolution = load_img(f\"{os.path.join(train_angry_dir, os.listdir(train_angry_dir)[0])}\"))\n",
    "\n",
    "array = img_to_array(test_resolution)\n",
    "\n",
    "print(f\"Each image has shape: {array.shape}\")"
   ]
  }
 ],
 "metadata": {
  "kernelspec": {
   "display_name": "Python 3 (ipykernel)",
   "language": "python",
   "name": "python3"
  },
  "language_info": {
   "codemirror_mode": {
    "name": "ipython",
    "version": 3
   },
   "file_extension": ".py",
   "mimetype": "text/x-python",
   "name": "python",
   "nbconvert_exporter": "python",
   "pygments_lexer": "ipython3",
   "version": "3.11.4"
  }
 },
 "nbformat": 4,
 "nbformat_minor": 5
}
