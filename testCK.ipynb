{
 "cells": [
  {
   "cell_type": "code",
   "execution_count": 12,
   "id": "19c40050-893a-4e88-acfc-de778fdb3b76",
   "metadata": {
    "tags": []
   },
   "outputs": [],
   "source": [
    "import pandas as pd  # For data manipulation and analysis\n",
    "import numpy as np  # For numerical operations and working with arrays\n",
    "import cv2 as cv  # For image processing tasks\n",
    "import os  # For interacting with the operating system, like file paths\n",
    "import tensorflow as tf  # For building and training neural network models\n",
    "\n",
    "from tensorflow.keras.applications.inception_v3 import InceptionV3\n",
    "from keras.preprocessing.image import ImageDataGenerator  # For real-time data augmentation\n",
    "from tensorflow.keras.models import load_model  # For loading a saved Keras model\n",
    "from keras.models import Sequential  # For creating a linear stack of layers in the model\n",
    "from keras.layers import Conv2D, MaxPooling2D, Dense, Dropout, Flatten  # For building model layers\n",
    "from keras.optimizers import Adam  # For optimization algorithms\n",
    "from keras.layers import BatchNormalization  # For applying Batch Normalization in neural network layers\n",
    "from keras.regularizers import l2  # For applying L2 regularization to prevent overfitting\n",
    "from keras.callbacks import ReduceLROnPlateau, EarlyStopping  # Importing specific callback functions\n",
    "import warnings  # For handling warnings\n",
    "import sys  # For interacting with the Python interpreter\n",
    "if not sys.warnoptions:\n",
    "    warnings.simplefilter(\"ignore\")  # Ignore simple warnings if not already done\n",
    "warnings.filterwarnings(\"ignore\", category=DeprecationWarning)  # Ignore deprecation warnings"
   ]
  },
  {
   "cell_type": "code",
   "execution_count": 6,
   "id": "f525603f-9c68-4d0d-9a8a-bc3196953ff5",
   "metadata": {
    "tags": []
   },
   "outputs": [
    {
     "name": "stdout",
     "output_type": "stream",
     "text": [
      "Dataset splitting complete\n"
     ]
    }
   ],
   "source": [
    "import shutil\n",
    "\n",
    "# Define the path to your original dataset and the paths where you want to store your train and test datasets\n",
    "original_dataset_dir = './archiveCK/CK+48/'\n",
    "train_dir = 'CK+48_train'\n",
    "test_dir = 'CK+48_test'\n",
    "\n",
    "# Create directories for training and testing datasets if they do not exist\n",
    "os.makedirs(train_dir, exist_ok=True)\n",
    "os.makedirs(test_dir, exist_ok=True)\n",
    "\n",
    "# Define the split ratio\n",
    "train_ratio = 0.8\n",
    "\n",
    "# Loop through each emotion category in the original dataset\n",
    "for emotion in os.listdir(original_dataset_dir):\n",
    "    emotion_dir = os.path.join(original_dataset_dir, emotion)\n",
    "    if os.path.isdir(emotion_dir):\n",
    "        # Get a list of all the image filenames in the emotion category\n",
    "        images = [f for f in os.listdir(emotion_dir) if os.path.isfile(os.path.join(emotion_dir, f))]\n",
    "        images = [f for f in os.listdir(emotion_dir) if os.path.isfile(os.path.join(emotion_dir, f))]\n",
    "        \n",
    "        # Randomly shuffle the list of image filenames\n",
    "        np.random.shuffle(images)\n",
    "        \n",
    "        # Split the list of image filenames into training and testing sets\n",
    "        train_size = int(len(images) * train_ratio)\n",
    "        train_images = images[:train_size]\n",
    "        test_images = images[train_size:]\n",
    "        \n",
    "        # Create directories for the emotion category in the train and test datasets\n",
    "        train_emotion_dir = os.path.join(train_dir, emotion)\n",
    "        test_emotion_dir = os.path.join(test_dir, emotion)\n",
    "        os.makedirs(train_emotion_dir, exist_ok=True)\n",
    "        os.makedirs(test_emotion_dir, exist_ok=True)\n",
    "        \n",
    "        # Copy the images into the corresponding directories\n",
    "        for image in train_images:\n",
    "            shutil.copy(os.path.join(emotion_dir, image), os.path.join(train_emotion_dir, image))\n",
    "        for image in test_images:\n",
    "            shutil.copy(os.path.join(emotion_dir, image), os.path.join(test_emotion_dir, image))\n",
    "\n",
    "print(\"Dataset splitting complete\")"
   ]
  },
  {
   "cell_type": "code",
   "execution_count": 8,
   "id": "681f78ba-a438-4ef1-a915-eaf7ca098bdc",
   "metadata": {
    "tags": []
   },
   "outputs": [
    {
     "name": "stdout",
     "output_type": "stream",
     "text": [
      "Dimensions: 48x48\n"
     ]
    }
   ],
   "source": [
    "import cv2\n",
    "\n",
    "# Load the image\n",
    "img = cv2.imread('./archiveCK/CK+48/disgust/S098_003_00000011.png')\n",
    "\n",
    "# Get dimensions\n",
    "height, width, channels = img.shape\n",
    "print(f'Dimensions: {width}x{height}')"
   ]
  },
  {
   "cell_type": "code",
   "execution_count": 9,
   "id": "f331dbc5-b32e-42e6-9e3b-5833db6ea251",
   "metadata": {
    "tags": []
   },
   "outputs": [
    {
     "name": "stdout",
     "output_type": "stream",
     "text": [
      "Found 981 images belonging to 7 classes.\n"
     ]
    },
    {
     "data": {
      "text/plain": [
       "<keras.src.preprocessing.image.DirectoryIterator at 0x183834a2d90>"
      ]
     },
     "execution_count": 9,
     "metadata": {},
     "output_type": "execute_result"
    }
   ],
   "source": [
    "# Create a data generator with augmentation\n",
    "train_data_generator = ImageDataGenerator(\n",
    "    rescale=1./255,  # Rescale the pixel values (normalization)\n",
    "    rotation_range=15,  # Random rotation in the range of 15 degrees\n",
    "    width_shift_range=0.15,  # Random horizontal shifts (15% of total width)\n",
    "    height_shift_range=0.15,  # Random vertical shifts (15% of total height)\n",
    "    shear_range=0.15,  # Random shearing transformations\n",
    "    zoom_range=0.15,  # Random zoom range\n",
    "    horizontal_flip=True,  # Randomly flip inputs horizontally\n",
    ")\n",
    "\n",
    "# Load images from the directory and apply the defined transformations\n",
    "fer_training_data = train_data_generator.flow_from_directory(\n",
    "    './archiveCK/CK+48/',  # Path to the training data\n",
    "    target_size=(48, 48),  # Resize images to 48x48\n",
    "    batch_size=64,  # Number of images to yield per batch\n",
    "    color_mode='grayscale',  # Load images in grayscale\n",
    "    class_mode='categorical'  # Labels will be returned in categorical format\n",
    ")\n",
    "\n",
    "fer_training_data"
   ]
  },
  {
   "cell_type": "code",
   "execution_count": 10,
   "id": "00e86316-c87b-4439-b7b2-15b84d4203f8",
   "metadata": {
    "tags": []
   },
   "outputs": [
    {
     "name": "stdout",
     "output_type": "stream",
     "text": [
      "Found 981 images belonging to 7 classes.\n"
     ]
    },
    {
     "data": {
      "text/plain": [
       "<keras.src.preprocessing.image.DirectoryIterator at 0x183f5cf1850>"
      ]
     },
     "execution_count": 10,
     "metadata": {},
     "output_type": "execute_result"
    }
   ],
   "source": [
    "# Initialize an ImageDataGenerator for test data with rescaling\n",
    "# Rescales images by dividing pixel values by 255 (normalization)\n",
    "test_data_generator = ImageDataGenerator(rescale=1./255)\n",
    "\n",
    "# Creates a data generator for the test dataset\n",
    "# flow_from_directory method loads images from a directory,\n",
    "# in this case, '/kaggle/working/CK+48_test'\n",
    "fer_test_data = test_data_generator.flow_from_directory(\n",
    "    './archiveCK/CK+48/',  # Directory path for test images\n",
    "    target_size = (48, 48),  # Resizes images to 48x48 pixels\n",
    "    batch_size = 64,  # Number of images to yield per batch\n",
    "    color_mode = 'grayscale',  # Specifies that images are in grayscale\n",
    "    class_mode = 'categorical'  # Images are classified categorically\n",
    ")\n",
    "\n",
    "# fer_test_data is now a generator that yields batches of test images and their labels\n",
    "fer_test_data"
   ]
  },
  {
   "cell_type": "code",
   "execution_count": 11,
   "id": "3361cf78-9d08-4b0a-b1e1-64d989a57eb5",
   "metadata": {
    "tags": []
   },
   "outputs": [],
   "source": [
    "from tensorflow.keras import optimizers\n",
    "\n",
    "# Initializing a list of optimizers with specific configurations\n",
    "optims = [\n",
    "    optimizers.Nadam(learning_rate=0.001, beta_1=0.9, beta_2=0.999, epsilon=1e-07, name='Nadam'),\n",
    "    optimizers.Adam(0.001),\n",
    "]"
   ]
  },
  {
   "cell_type": "code",
   "execution_count": 14,
   "id": "ea68e074-7d0d-4120-bd3b-b5708d4cd072",
   "metadata": {
    "tags": []
   },
   "outputs": [
    {
     "name": "stdout",
     "output_type": "stream",
     "text": [
      "Model: \"sequential\"\n",
      "_________________________________________________________________\n",
      " Layer (type)                Output Shape              Param #   \n",
      "=================================================================\n",
      " conv2d_1 (Conv2D)           (None, 48, 48, 512)       13312     \n",
      "                                                                 \n",
      " batchnorm_1 (BatchNormaliz  (None, 48, 48, 512)       2048      \n",
      " ation)                                                          \n",
      "                                                                 \n",
      " conv2d_2 (Conv2D)           (None, 48, 48, 256)       3277056   \n",
      "                                                                 \n",
      " batchnorm_2 (BatchNormaliz  (None, 48, 48, 256)       1024      \n",
      " ation)                                                          \n",
      "                                                                 \n",
      " maxpool2d_1 (MaxPooling2D)  (None, 24, 24, 256)       0         \n",
      "                                                                 \n",
      " dropout_1 (Dropout)         (None, 24, 24, 256)       0         \n",
      "                                                                 \n",
      " conv2d_3 (Conv2D)           (None, 24, 24, 128)       295040    \n",
      "                                                                 \n",
      " batchnorm_3 (BatchNormaliz  (None, 24, 24, 128)       512       \n",
      " ation)                                                          \n",
      "                                                                 \n",
      " conv2d_4 (Conv2D)           (None, 24, 24, 128)       147584    \n",
      "                                                                 \n",
      " batchnorm_4 (BatchNormaliz  (None, 24, 24, 128)       512       \n",
      " ation)                                                          \n",
      "                                                                 \n",
      " maxpool2d_2 (MaxPooling2D)  (None, 12, 12, 128)       0         \n",
      "                                                                 \n",
      " dropout_2 (Dropout)         (None, 12, 12, 128)       0         \n",
      "                                                                 \n",
      " conv2d_5 (Conv2D)           (None, 12, 12, 256)       295168    \n",
      "                                                                 \n",
      " batchnorm_5 (BatchNormaliz  (None, 12, 12, 256)       1024      \n",
      " ation)                                                          \n",
      "                                                                 \n",
      " conv2d_6 (Conv2D)           (None, 12, 12, 512)       1180160   \n",
      "                                                                 \n",
      " batchnorm_6 (BatchNormaliz  (None, 12, 12, 512)       2048      \n",
      " ation)                                                          \n",
      "                                                                 \n",
      " maxpool2d_3 (MaxPooling2D)  (None, 6, 6, 512)         0         \n",
      "                                                                 \n",
      " dropout_3 (Dropout)         (None, 6, 6, 512)         0         \n",
      "                                                                 \n",
      " flatten (Flatten)           (None, 18432)             0         \n",
      "                                                                 \n",
      " dense_1 (Dense)             (None, 256)               4718848   \n",
      "                                                                 \n",
      " batchnorm_7 (BatchNormaliz  (None, 256)               1024      \n",
      " ation)                                                          \n",
      "                                                                 \n",
      " dropout_4 (Dropout)         (None, 256)               0         \n",
      "                                                                 \n",
      " out_layer (Dense)           (None, 7)                 1799      \n",
      "                                                                 \n",
      "=================================================================\n",
      "Total params: 9937159 (37.91 MB)\n",
      "Trainable params: 9933063 (37.89 MB)\n",
      "Non-trainable params: 4096 (16.00 KB)\n",
      "_________________________________________________________________\n"
     ]
    }
   ],
   "source": [
    "model = Sequential()\n",
    "\n",
    "model.add(\n",
    "        Conv2D(\n",
    "            filters=512,\n",
    "            kernel_size=(5,5),\n",
    "            input_shape=(48, 48, 1),\n",
    "            activation='elu',\n",
    "            padding='same',\n",
    "            kernel_initializer='he_normal',\n",
    "            name='conv2d_1'\n",
    "        )\n",
    "    )\n",
    "model.add(BatchNormalization(name='batchnorm_1'))\n",
    "model.add(\n",
    "        Conv2D(\n",
    "            filters=256,\n",
    "            kernel_size=(5,5),\n",
    "            activation='elu',\n",
    "            padding='same',\n",
    "            kernel_initializer='he_normal',\n",
    "            name='conv2d_2'\n",
    "        )\n",
    "    )\n",
    "model.add(BatchNormalization(name='batchnorm_2'))\n",
    "model.add(MaxPooling2D(pool_size=(2,2), name='maxpool2d_1'))\n",
    "model.add(Dropout(0.25, name='dropout_1'))\n",
    "\n",
    "model.add(\n",
    "        Conv2D(\n",
    "            filters=128,\n",
    "            kernel_size=(3,3),\n",
    "            activation='elu',\n",
    "            padding='same',\n",
    "            kernel_initializer='he_normal',\n",
    "            name='conv2d_3'\n",
    "        )\n",
    "    )\n",
    "model.add(BatchNormalization(name='batchnorm_3'))\n",
    "model.add(\n",
    "        Conv2D(\n",
    "            filters=128,\n",
    "            kernel_size=(3,3),\n",
    "            activation='elu',\n",
    "            padding='same',\n",
    "            kernel_initializer='he_normal',\n",
    "            name='conv2d_4'\n",
    "        )\n",
    "    )\n",
    "model.add(BatchNormalization(name='batchnorm_4'))\n",
    "    \n",
    "model.add(MaxPooling2D(pool_size=(2,2), name='maxpool2d_2'))\n",
    "model.add(Dropout(0.25, name='dropout_2'))\n",
    "\n",
    "model.add(\n",
    "        Conv2D(\n",
    "            filters=256,\n",
    "            kernel_size=(3,3),\n",
    "            activation='elu',\n",
    "            padding='same',\n",
    "            kernel_initializer='he_normal',\n",
    "            name='conv2d_5'\n",
    "        )\n",
    "    )\n",
    "model.add(BatchNormalization(name='batchnorm_5'))\n",
    "model.add(\n",
    "        Conv2D(\n",
    "            filters=512,\n",
    "            kernel_size=(3,3),\n",
    "            activation='elu',\n",
    "            padding='same',\n",
    "            kernel_initializer='he_normal',\n",
    "            name='conv2d_6'\n",
    "        )\n",
    "    )\n",
    "model.add(BatchNormalization(name='batchnorm_6'))\n",
    "    \n",
    "model.add(MaxPooling2D(pool_size=(2,2), name='maxpool2d_3'))\n",
    "model.add(Dropout(0.25, name='dropout_3'))\n",
    "\n",
    "model.add(Flatten(name='flatten'))\n",
    "model.add(\n",
    "        Dense(\n",
    "            256,\n",
    "            activation='elu',\n",
    "            kernel_initializer='he_normal',\n",
    "            name='dense_1'\n",
    "        )\n",
    "    )\n",
    "model.add(BatchNormalization(name='batchnorm_7'))\n",
    "    \n",
    "model.add(Dropout(0.25, name='dropout_4'))\n",
    "    \n",
    "model.add(\n",
    "        Dense(\n",
    "            7,\n",
    "            activation='softmax',\n",
    "            name='out_layer'\n",
    "        )\n",
    "    )\n",
    "    \n",
    "model.compile(\n",
    "        loss='categorical_crossentropy',\n",
    "        optimizer='adam',\n",
    "        metrics=['accuracy']\n",
    "    )\n",
    "model.summary()"
   ]
  },
  {
   "cell_type": "code",
   "execution_count": 15,
   "id": "14b5bb44-b363-4418-9599-a26dd97a6372",
   "metadata": {
    "tags": []
   },
   "outputs": [],
   "source": [
    "early_stopping = EarlyStopping(\n",
    "    monitor='val_accuracy',\n",
    "    min_delta=0.00005,\n",
    "    patience=11,\n",
    "    verbose=1,\n",
    "    restore_best_weights=True,\n",
    ")\n",
    "\n",
    "lr_scheduler = ReduceLROnPlateau(\n",
    "    monitor='val_accuracy',\n",
    "    factor=0.5,\n",
    "    patience=7,\n",
    "    min_lr=1e-7,\n",
    "    verbose=1,\n",
    ")\n",
    "\n",
    "callbacks = [\n",
    "    early_stopping,\n",
    "    lr_scheduler,\n",
    "]"
   ]
  },
  {
   "cell_type": "code",
   "execution_count": 16,
   "id": "2c416058-2e63-4236-877c-7947caa4f9e0",
   "metadata": {
    "tags": []
   },
   "outputs": [
    {
     "name": "stdout",
     "output_type": "stream",
     "text": [
      "Epoch 1/60\n",
      "16/16 [==============================] - 172s 11s/step - loss: 2.3427 - accuracy: 0.3119 - val_loss: 98.3300 - val_accuracy: 0.1804 - lr: 0.0010\n",
      "Epoch 2/60\n",
      "16/16 [==============================] - 172s 11s/step - loss: 1.4086 - accuracy: 0.5168 - val_loss: 10.7685 - val_accuracy: 0.4210 - lr: 0.0010\n",
      "Epoch 3/60\n",
      "16/16 [==============================] - 166s 11s/step - loss: 1.1825 - accuracy: 0.5923 - val_loss: 15.5655 - val_accuracy: 0.2599 - lr: 0.0010\n",
      "Epoch 4/60\n",
      "16/16 [==============================] - 172s 11s/step - loss: 1.0588 - accuracy: 0.6086 - val_loss: 5.8028 - val_accuracy: 0.3547 - lr: 0.0010\n",
      "Epoch 5/60\n",
      "16/16 [==============================] - 166s 11s/step - loss: 0.9340 - accuracy: 0.6504 - val_loss: 2.7109 - val_accuracy: 0.5474 - lr: 0.0010\n",
      "Epoch 6/60\n",
      "16/16 [==============================] - 167s 11s/step - loss: 0.8697 - accuracy: 0.6758 - val_loss: 6.1167 - val_accuracy: 0.3129 - lr: 0.0010\n",
      "Epoch 7/60\n",
      "16/16 [==============================] - 167s 11s/step - loss: 0.7749 - accuracy: 0.7207 - val_loss: 1.4352 - val_accuracy: 0.6208 - lr: 0.0010\n",
      "Epoch 8/60\n",
      "16/16 [==============================] - 166s 10s/step - loss: 0.7403 - accuracy: 0.7278 - val_loss: 2.8256 - val_accuracy: 0.5321 - lr: 0.0010\n",
      "Epoch 9/60\n",
      "16/16 [==============================] - 168s 11s/step - loss: 0.6636 - accuracy: 0.7564 - val_loss: 1.4871 - val_accuracy: 0.6086 - lr: 0.0010\n",
      "Epoch 10/60\n",
      "16/16 [==============================] - 167s 11s/step - loss: 0.6216 - accuracy: 0.7635 - val_loss: 1.1083 - val_accuracy: 0.6758 - lr: 0.0010\n",
      "Epoch 11/60\n",
      "16/16 [==============================] - 167s 11s/step - loss: 0.5850 - accuracy: 0.7839 - val_loss: 0.6521 - val_accuracy: 0.7778 - lr: 0.0010\n",
      "Epoch 12/60\n",
      "16/16 [==============================] - 167s 11s/step - loss: 0.5227 - accuracy: 0.8104 - val_loss: 0.7830 - val_accuracy: 0.7645 - lr: 0.0010\n",
      "Epoch 13/60\n",
      "16/16 [==============================] - 168s 11s/step - loss: 0.4607 - accuracy: 0.8267 - val_loss: 0.5372 - val_accuracy: 0.8226 - lr: 0.0010\n",
      "Epoch 14/60\n",
      "16/16 [==============================] - 167s 11s/step - loss: 0.4630 - accuracy: 0.8410 - val_loss: 0.4744 - val_accuracy: 0.8073 - lr: 0.0010\n",
      "Epoch 15/60\n",
      "16/16 [==============================] - 167s 11s/step - loss: 0.4865 - accuracy: 0.8206 - val_loss: 0.2358 - val_accuracy: 0.9266 - lr: 0.0010\n",
      "Epoch 16/60\n",
      "16/16 [==============================] - 167s 11s/step - loss: 0.3742 - accuracy: 0.8675 - val_loss: 0.2049 - val_accuracy: 0.9276 - lr: 0.0010\n",
      "Epoch 17/60\n",
      "16/16 [==============================] - 167s 11s/step - loss: 0.4316 - accuracy: 0.8379 - val_loss: 0.2275 - val_accuracy: 0.9256 - lr: 0.0010\n",
      "Epoch 18/60\n",
      "16/16 [==============================] - 168s 11s/step - loss: 0.4189 - accuracy: 0.8440 - val_loss: 0.1892 - val_accuracy: 0.9470 - lr: 0.0010\n",
      "Epoch 19/60\n",
      "16/16 [==============================] - 167s 11s/step - loss: 0.3828 - accuracy: 0.8583 - val_loss: 0.2287 - val_accuracy: 0.9062 - lr: 0.0010\n",
      "Epoch 20/60\n",
      "16/16 [==============================] - 169s 11s/step - loss: 0.3553 - accuracy: 0.8726 - val_loss: 0.1835 - val_accuracy: 0.9297 - lr: 0.0010\n",
      "Epoch 21/60\n",
      "16/16 [==============================] - 167s 11s/step - loss: 0.3179 - accuracy: 0.8869 - val_loss: 0.1603 - val_accuracy: 0.9460 - lr: 0.0010\n",
      "Epoch 22/60\n",
      "16/16 [==============================] - 168s 11s/step - loss: 0.2823 - accuracy: 0.9083 - val_loss: 0.2168 - val_accuracy: 0.9185 - lr: 0.0010\n",
      "Epoch 23/60\n",
      "16/16 [==============================] - 167s 11s/step - loss: 0.2691 - accuracy: 0.8960 - val_loss: 0.1414 - val_accuracy: 0.9572 - lr: 0.0010\n",
      "Epoch 24/60\n",
      "16/16 [==============================] - 167s 11s/step - loss: 0.2875 - accuracy: 0.8869 - val_loss: 0.1353 - val_accuracy: 0.9490 - lr: 0.0010\n",
      "Epoch 25/60\n",
      "16/16 [==============================] - 168s 11s/step - loss: 0.2552 - accuracy: 0.9154 - val_loss: 0.1353 - val_accuracy: 0.9602 - lr: 0.0010\n",
      "Epoch 26/60\n",
      "16/16 [==============================] - 169s 11s/step - loss: 0.2918 - accuracy: 0.9042 - val_loss: 0.1189 - val_accuracy: 0.9572 - lr: 0.0010\n",
      "Epoch 27/60\n",
      "16/16 [==============================] - 167s 11s/step - loss: 0.2476 - accuracy: 0.9083 - val_loss: 0.1469 - val_accuracy: 0.9480 - lr: 0.0010\n",
      "Epoch 28/60\n",
      "16/16 [==============================] - 167s 11s/step - loss: 0.2331 - accuracy: 0.9154 - val_loss: 0.0877 - val_accuracy: 0.9664 - lr: 0.0010\n",
      "Epoch 29/60\n",
      "16/16 [==============================] - 168s 11s/step - loss: 0.2220 - accuracy: 0.9266 - val_loss: 0.1459 - val_accuracy: 0.9460 - lr: 0.0010\n",
      "Epoch 30/60\n",
      "16/16 [==============================] - 174s 11s/step - loss: 0.2103 - accuracy: 0.9256 - val_loss: 0.0897 - val_accuracy: 0.9633 - lr: 0.0010\n",
      "Epoch 31/60\n",
      "16/16 [==============================] - 167s 11s/step - loss: 0.1973 - accuracy: 0.9307 - val_loss: 0.1286 - val_accuracy: 0.9592 - lr: 0.0010\n",
      "Epoch 32/60\n",
      "16/16 [==============================] - 167s 11s/step - loss: 0.1685 - accuracy: 0.9460 - val_loss: 0.0894 - val_accuracy: 0.9674 - lr: 0.0010\n",
      "Epoch 33/60\n",
      "16/16 [==============================] - 167s 11s/step - loss: 0.1486 - accuracy: 0.9572 - val_loss: 0.1146 - val_accuracy: 0.9541 - lr: 0.0010\n",
      "Epoch 34/60\n",
      "16/16 [==============================] - 168s 11s/step - loss: 0.1708 - accuracy: 0.9409 - val_loss: 0.2172 - val_accuracy: 0.9093 - lr: 0.0010\n",
      "Epoch 35/60\n",
      "16/16 [==============================] - 167s 11s/step - loss: 0.1703 - accuracy: 0.9399 - val_loss: 0.0516 - val_accuracy: 0.9878 - lr: 0.0010\n",
      "Epoch 36/60\n",
      "16/16 [==============================] - 176s 11s/step - loss: 0.1939 - accuracy: 0.9256 - val_loss: 0.0365 - val_accuracy: 0.9878 - lr: 0.0010\n",
      "Epoch 37/60\n",
      "16/16 [==============================] - 170s 11s/step - loss: 0.1859 - accuracy: 0.9246 - val_loss: 0.6249 - val_accuracy: 0.7870 - lr: 0.0010\n",
      "Epoch 38/60\n",
      "16/16 [==============================] - 170s 11s/step - loss: 0.1565 - accuracy: 0.9551 - val_loss: 0.0792 - val_accuracy: 0.9694 - lr: 0.0010\n",
      "Epoch 39/60\n",
      "16/16 [==============================] - 168s 11s/step - loss: 0.1541 - accuracy: 0.9521 - val_loss: 0.0544 - val_accuracy: 0.9827 - lr: 0.0010\n",
      "Epoch 40/60\n",
      "16/16 [==============================] - 168s 11s/step - loss: 0.1499 - accuracy: 0.9511 - val_loss: 0.1051 - val_accuracy: 0.9582 - lr: 0.0010\n",
      "Epoch 41/60\n",
      "16/16 [==============================] - 169s 11s/step - loss: 0.1389 - accuracy: 0.9633 - val_loss: 0.0314 - val_accuracy: 0.9959 - lr: 0.0010\n",
      "Epoch 42/60\n",
      "16/16 [==============================] - 168s 11s/step - loss: 0.1234 - accuracy: 0.9501 - val_loss: 0.0433 - val_accuracy: 0.9908 - lr: 0.0010\n",
      "Epoch 43/60\n",
      "16/16 [==============================] - 168s 11s/step - loss: 0.1441 - accuracy: 0.9460 - val_loss: 0.0566 - val_accuracy: 0.9796 - lr: 0.0010\n",
      "Epoch 44/60\n",
      "16/16 [==============================] - 168s 11s/step - loss: 0.1301 - accuracy: 0.9490 - val_loss: 0.0405 - val_accuracy: 0.9908 - lr: 0.0010\n",
      "Epoch 45/60\n",
      "16/16 [==============================] - 168s 11s/step - loss: 0.1175 - accuracy: 0.9582 - val_loss: 0.0835 - val_accuracy: 0.9582 - lr: 0.0010\n",
      "Epoch 46/60\n",
      "16/16 [==============================] - 167s 11s/step - loss: 0.0899 - accuracy: 0.9735 - val_loss: 0.0937 - val_accuracy: 0.9684 - lr: 0.0010\n",
      "Epoch 47/60\n",
      "16/16 [==============================] - 176s 11s/step - loss: 0.1131 - accuracy: 0.9613 - val_loss: 0.0546 - val_accuracy: 0.9786 - lr: 0.0010\n",
      "Epoch 48/60\n",
      "16/16 [==============================] - ETA: 0s - loss: 0.1179 - accuracy: 0.9653\n",
      "Epoch 48: ReduceLROnPlateau reducing learning rate to 0.0005000000237487257.\n",
      "16/16 [==============================] - 178s 11s/step - loss: 0.1179 - accuracy: 0.9653 - val_loss: 0.0249 - val_accuracy: 0.9918 - lr: 0.0010\n",
      "Epoch 49/60\n",
      "16/16 [==============================] - 168s 11s/step - loss: 0.1017 - accuracy: 0.9694 - val_loss: 0.0646 - val_accuracy: 0.9867 - lr: 5.0000e-04\n",
      "Epoch 50/60\n",
      "16/16 [==============================] - 168s 11s/step - loss: 0.0749 - accuracy: 0.9776 - val_loss: 0.0109 - val_accuracy: 1.0000 - lr: 5.0000e-04\n",
      "Epoch 51/60\n",
      "16/16 [==============================] - 168s 11s/step - loss: 0.0647 - accuracy: 0.9817 - val_loss: 0.0075 - val_accuracy: 1.0000 - lr: 5.0000e-04\n",
      "Epoch 52/60\n",
      "16/16 [==============================] - 168s 11s/step - loss: 0.0682 - accuracy: 0.9786 - val_loss: 0.0065 - val_accuracy: 1.0000 - lr: 5.0000e-04\n",
      "Epoch 53/60\n",
      "16/16 [==============================] - 193s 12s/step - loss: 0.0544 - accuracy: 0.9837 - val_loss: 0.0085 - val_accuracy: 1.0000 - lr: 5.0000e-04\n",
      "Epoch 54/60\n",
      "16/16 [==============================] - 167s 11s/step - loss: 0.0581 - accuracy: 0.9867 - val_loss: 0.0053 - val_accuracy: 1.0000 - lr: 5.0000e-04\n",
      "Epoch 55/60\n",
      "16/16 [==============================] - 168s 11s/step - loss: 0.0608 - accuracy: 0.9857 - val_loss: 0.0096 - val_accuracy: 1.0000 - lr: 5.0000e-04\n",
      "Epoch 56/60\n",
      "16/16 [==============================] - 167s 11s/step - loss: 0.0543 - accuracy: 0.9837 - val_loss: 0.0331 - val_accuracy: 0.9949 - lr: 5.0000e-04\n",
      "Epoch 57/60\n",
      "16/16 [==============================] - ETA: 0s - loss: 0.0602 - accuracy: 0.9796\n",
      "Epoch 57: ReduceLROnPlateau reducing learning rate to 0.0002500000118743628.\n",
      "16/16 [==============================] - 167s 11s/step - loss: 0.0602 - accuracy: 0.9796 - val_loss: 0.0085 - val_accuracy: 1.0000 - lr: 5.0000e-04\n",
      "Epoch 58/60\n",
      "16/16 [==============================] - 174s 11s/step - loss: 0.0418 - accuracy: 0.9918 - val_loss: 0.0075 - val_accuracy: 1.0000 - lr: 2.5000e-04\n",
      "Epoch 59/60\n",
      "16/16 [==============================] - 178s 11s/step - loss: 0.0475 - accuracy: 0.9857 - val_loss: 0.0027 - val_accuracy: 1.0000 - lr: 2.5000e-04\n",
      "Epoch 60/60\n",
      "16/16 [==============================] - 168s 11s/step - loss: 0.0520 - accuracy: 0.9857 - val_loss: 0.0044 - val_accuracy: 1.0000 - lr: 2.5000e-04\n"
     ]
    }
   ],
   "source": [
    "batch_size = 64\n",
    "history = model.fit(\n",
    "    fer_training_data,\n",
    "    epochs=60, \n",
    "    validation_data=fer_test_data,\n",
    "    batch_size = 64,\n",
    "    callbacks=callbacks,\n",
    ")"
   ]
  },
  {
   "cell_type": "code",
   "execution_count": 18,
   "id": "06bad045-58dc-4a9d-b24c-222d89590257",
   "metadata": {
    "tags": []
   },
   "outputs": [
    {
     "data": {
      "application/vnd.plotly.v1+json": {
       "config": {
        "plotlyServerURL": "https://plot.ly"
       },
       "data": [
        {
         "mode": "lines+markers",
         "name": "Training Accuracy",
         "type": "scatter",
         "x": [
          1,
          2,
          3,
          4,
          5,
          6,
          7,
          8,
          9,
          10,
          11,
          12,
          13,
          14,
          15,
          16,
          17,
          18,
          19,
          20,
          21,
          22,
          23,
          24,
          25,
          26,
          27,
          28,
          29,
          30,
          31,
          32,
          33,
          34,
          35,
          36,
          37,
          38,
          39,
          40,
          41,
          42,
          43,
          44,
          45,
          46,
          47,
          48,
          49,
          50,
          51,
          52,
          53,
          54,
          55,
          56,
          57,
          58,
          59,
          60
         ],
         "y": [
          0.31192660331726074,
          0.5168195962905884,
          0.592252790927887,
          0.608562707901001,
          0.6503567695617676,
          0.6758409738540649,
          0.7206931710243225,
          0.7278287410736084,
          0.756371021270752,
          0.7635066509246826,
          0.7838940024375916,
          0.8103975653648376,
          0.8267074227333069,
          0.8409786224365234,
          0.8205912113189697,
          0.8674821853637695,
          0.8379204869270325,
          0.8440366983413696,
          0.8583078384399414,
          0.8725789785385132,
          0.8868501782417297,
          0.9082568883895874,
          0.8960244655609131,
          0.8868501782417297,
          0.9153924584388733,
          0.9041793942451477,
          0.9082568883895874,
          0.9153924584388733,
          0.9266055226325989,
          0.9255861639976501,
          0.9306829571723938,
          0.9459735155105591,
          0.9571865200996399,
          0.9408766627311707,
          0.9398573040962219,
          0.9255861639976501,
          0.9245667457580566,
          0.9551478028297424,
          0.9520897269248962,
          0.9510703086853027,
          0.963302731513977,
          0.950050950050354,
          0.9459735155105591,
          0.9490315914154053,
          0.9582059383392334,
          0.9734964370727539,
          0.9612640142440796,
          0.9653415083885193,
          0.9694189429283142,
          0.9775739312171936,
          0.9816513657569885,
          0.9785932898521423,
          0.983690083026886,
          0.986748218536377,
          0.9857288599014282,
          0.983690083026886,
          0.9796126484870911,
          0.9918450713157654,
          0.9857288599014282,
          0.9857288599014282
         ]
        },
        {
         "mode": "lines+markers",
         "name": "Validation Accuracy",
         "type": "scatter",
         "x": [
          1,
          2,
          3,
          4,
          5,
          6,
          7,
          8,
          9,
          10,
          11,
          12,
          13,
          14,
          15,
          16,
          17,
          18,
          19,
          20,
          21,
          22,
          23,
          24,
          25,
          26,
          27,
          28,
          29,
          30,
          31,
          32,
          33,
          34,
          35,
          36,
          37,
          38,
          39,
          40,
          41,
          42,
          43,
          44,
          45,
          46,
          47,
          48,
          49,
          50,
          51,
          52,
          53,
          54,
          55,
          56,
          57,
          58,
          59,
          60
         ],
         "y": [
          0.1804281324148178,
          0.4209989905357361,
          0.2599388360977173,
          0.35474005341529846,
          0.5474005937576294,
          0.3129459619522095,
          0.6207951307296753,
          0.5321100950241089,
          0.608562707901001,
          0.6758409738540649,
          0.7777777910232544,
          0.7645260095596313,
          0.822629988193512,
          0.8073394298553467,
          0.9266055226325989,
          0.9276248812675476,
          0.9255861639976501,
          0.9469928741455078,
          0.9062181711196899,
          0.9296635985374451,
          0.9459735155105591,
          0.9184505343437195,
          0.9571865200996399,
          0.9490315914154053,
          0.9602446556091309,
          0.9571865200996399,
          0.9480122327804565,
          0.966360867023468,
          0.9459735155105591,
          0.963302731513977,
          0.9592252969741821,
          0.9673802256584167,
          0.9541284441947937,
          0.9092762470245361,
          0.9877675771713257,
          0.9877675771713257,
          0.7869520783424377,
          0.9694189429283142,
          0.9826707243919373,
          0.9582059383392334,
          0.9959225058555603,
          0.9908257126808167,
          0.9796126484870911,
          0.9908257126808167,
          0.9582059383392334,
          0.9683995842933655,
          0.9785932898521423,
          0.9918450713157654,
          0.986748218536377,
          1,
          1,
          1,
          1,
          1,
          1,
          0.9949031472206116,
          1,
          1,
          1,
          1
         ]
        }
       ],
       "layout": {
        "autosize": true,
        "template": {
         "data": {
          "bar": [
           {
            "error_x": {
             "color": "#2a3f5f"
            },
            "error_y": {
             "color": "#2a3f5f"
            },
            "marker": {
             "line": {
              "color": "white",
              "width": 0.5
             },
             "pattern": {
              "fillmode": "overlay",
              "size": 10,
              "solidity": 0.2
             }
            },
            "type": "bar"
           }
          ],
          "barpolar": [
           {
            "marker": {
             "line": {
              "color": "white",
              "width": 0.5
             },
             "pattern": {
              "fillmode": "overlay",
              "size": 10,
              "solidity": 0.2
             }
            },
            "type": "barpolar"
           }
          ],
          "carpet": [
           {
            "aaxis": {
             "endlinecolor": "#2a3f5f",
             "gridcolor": "#C8D4E3",
             "linecolor": "#C8D4E3",
             "minorgridcolor": "#C8D4E3",
             "startlinecolor": "#2a3f5f"
            },
            "baxis": {
             "endlinecolor": "#2a3f5f",
             "gridcolor": "#C8D4E3",
             "linecolor": "#C8D4E3",
             "minorgridcolor": "#C8D4E3",
             "startlinecolor": "#2a3f5f"
            },
            "type": "carpet"
           }
          ],
          "choropleth": [
           {
            "colorbar": {
             "outlinewidth": 0,
             "ticks": ""
            },
            "type": "choropleth"
           }
          ],
          "contour": [
           {
            "colorbar": {
             "outlinewidth": 0,
             "ticks": ""
            },
            "colorscale": [
             [
              0,
              "#0d0887"
             ],
             [
              0.1111111111111111,
              "#46039f"
             ],
             [
              0.2222222222222222,
              "#7201a8"
             ],
             [
              0.3333333333333333,
              "#9c179e"
             ],
             [
              0.4444444444444444,
              "#bd3786"
             ],
             [
              0.5555555555555556,
              "#d8576b"
             ],
             [
              0.6666666666666666,
              "#ed7953"
             ],
             [
              0.7777777777777778,
              "#fb9f3a"
             ],
             [
              0.8888888888888888,
              "#fdca26"
             ],
             [
              1,
              "#f0f921"
             ]
            ],
            "type": "contour"
           }
          ],
          "contourcarpet": [
           {
            "colorbar": {
             "outlinewidth": 0,
             "ticks": ""
            },
            "type": "contourcarpet"
           }
          ],
          "heatmap": [
           {
            "colorbar": {
             "outlinewidth": 0,
             "ticks": ""
            },
            "colorscale": [
             [
              0,
              "#0d0887"
             ],
             [
              0.1111111111111111,
              "#46039f"
             ],
             [
              0.2222222222222222,
              "#7201a8"
             ],
             [
              0.3333333333333333,
              "#9c179e"
             ],
             [
              0.4444444444444444,
              "#bd3786"
             ],
             [
              0.5555555555555556,
              "#d8576b"
             ],
             [
              0.6666666666666666,
              "#ed7953"
             ],
             [
              0.7777777777777778,
              "#fb9f3a"
             ],
             [
              0.8888888888888888,
              "#fdca26"
             ],
             [
              1,
              "#f0f921"
             ]
            ],
            "type": "heatmap"
           }
          ],
          "heatmapgl": [
           {
            "colorbar": {
             "outlinewidth": 0,
             "ticks": ""
            },
            "colorscale": [
             [
              0,
              "#0d0887"
             ],
             [
              0.1111111111111111,
              "#46039f"
             ],
             [
              0.2222222222222222,
              "#7201a8"
             ],
             [
              0.3333333333333333,
              "#9c179e"
             ],
             [
              0.4444444444444444,
              "#bd3786"
             ],
             [
              0.5555555555555556,
              "#d8576b"
             ],
             [
              0.6666666666666666,
              "#ed7953"
             ],
             [
              0.7777777777777778,
              "#fb9f3a"
             ],
             [
              0.8888888888888888,
              "#fdca26"
             ],
             [
              1,
              "#f0f921"
             ]
            ],
            "type": "heatmapgl"
           }
          ],
          "histogram": [
           {
            "marker": {
             "pattern": {
              "fillmode": "overlay",
              "size": 10,
              "solidity": 0.2
             }
            },
            "type": "histogram"
           }
          ],
          "histogram2d": [
           {
            "colorbar": {
             "outlinewidth": 0,
             "ticks": ""
            },
            "colorscale": [
             [
              0,
              "#0d0887"
             ],
             [
              0.1111111111111111,
              "#46039f"
             ],
             [
              0.2222222222222222,
              "#7201a8"
             ],
             [
              0.3333333333333333,
              "#9c179e"
             ],
             [
              0.4444444444444444,
              "#bd3786"
             ],
             [
              0.5555555555555556,
              "#d8576b"
             ],
             [
              0.6666666666666666,
              "#ed7953"
             ],
             [
              0.7777777777777778,
              "#fb9f3a"
             ],
             [
              0.8888888888888888,
              "#fdca26"
             ],
             [
              1,
              "#f0f921"
             ]
            ],
            "type": "histogram2d"
           }
          ],
          "histogram2dcontour": [
           {
            "colorbar": {
             "outlinewidth": 0,
             "ticks": ""
            },
            "colorscale": [
             [
              0,
              "#0d0887"
             ],
             [
              0.1111111111111111,
              "#46039f"
             ],
             [
              0.2222222222222222,
              "#7201a8"
             ],
             [
              0.3333333333333333,
              "#9c179e"
             ],
             [
              0.4444444444444444,
              "#bd3786"
             ],
             [
              0.5555555555555556,
              "#d8576b"
             ],
             [
              0.6666666666666666,
              "#ed7953"
             ],
             [
              0.7777777777777778,
              "#fb9f3a"
             ],
             [
              0.8888888888888888,
              "#fdca26"
             ],
             [
              1,
              "#f0f921"
             ]
            ],
            "type": "histogram2dcontour"
           }
          ],
          "mesh3d": [
           {
            "colorbar": {
             "outlinewidth": 0,
             "ticks": ""
            },
            "type": "mesh3d"
           }
          ],
          "parcoords": [
           {
            "line": {
             "colorbar": {
              "outlinewidth": 0,
              "ticks": ""
             }
            },
            "type": "parcoords"
           }
          ],
          "pie": [
           {
            "automargin": true,
            "type": "pie"
           }
          ],
          "scatter": [
           {
            "fillpattern": {
             "fillmode": "overlay",
             "size": 10,
             "solidity": 0.2
            },
            "type": "scatter"
           }
          ],
          "scatter3d": [
           {
            "line": {
             "colorbar": {
              "outlinewidth": 0,
              "ticks": ""
             }
            },
            "marker": {
             "colorbar": {
              "outlinewidth": 0,
              "ticks": ""
             }
            },
            "type": "scatter3d"
           }
          ],
          "scattercarpet": [
           {
            "marker": {
             "colorbar": {
              "outlinewidth": 0,
              "ticks": ""
             }
            },
            "type": "scattercarpet"
           }
          ],
          "scattergeo": [
           {
            "marker": {
             "colorbar": {
              "outlinewidth": 0,
              "ticks": ""
             }
            },
            "type": "scattergeo"
           }
          ],
          "scattergl": [
           {
            "marker": {
             "colorbar": {
              "outlinewidth": 0,
              "ticks": ""
             }
            },
            "type": "scattergl"
           }
          ],
          "scattermapbox": [
           {
            "marker": {
             "colorbar": {
              "outlinewidth": 0,
              "ticks": ""
             }
            },
            "type": "scattermapbox"
           }
          ],
          "scatterpolar": [
           {
            "marker": {
             "colorbar": {
              "outlinewidth": 0,
              "ticks": ""
             }
            },
            "type": "scatterpolar"
           }
          ],
          "scatterpolargl": [
           {
            "marker": {
             "colorbar": {
              "outlinewidth": 0,
              "ticks": ""
             }
            },
            "type": "scatterpolargl"
           }
          ],
          "scatterternary": [
           {
            "marker": {
             "colorbar": {
              "outlinewidth": 0,
              "ticks": ""
             }
            },
            "type": "scatterternary"
           }
          ],
          "surface": [
           {
            "colorbar": {
             "outlinewidth": 0,
             "ticks": ""
            },
            "colorscale": [
             [
              0,
              "#0d0887"
             ],
             [
              0.1111111111111111,
              "#46039f"
             ],
             [
              0.2222222222222222,
              "#7201a8"
             ],
             [
              0.3333333333333333,
              "#9c179e"
             ],
             [
              0.4444444444444444,
              "#bd3786"
             ],
             [
              0.5555555555555556,
              "#d8576b"
             ],
             [
              0.6666666666666666,
              "#ed7953"
             ],
             [
              0.7777777777777778,
              "#fb9f3a"
             ],
             [
              0.8888888888888888,
              "#fdca26"
             ],
             [
              1,
              "#f0f921"
             ]
            ],
            "type": "surface"
           }
          ],
          "table": [
           {
            "cells": {
             "fill": {
              "color": "#EBF0F8"
             },
             "line": {
              "color": "white"
             }
            },
            "header": {
             "fill": {
              "color": "#C8D4E3"
             },
             "line": {
              "color": "white"
             }
            },
            "type": "table"
           }
          ]
         },
         "layout": {
          "annotationdefaults": {
           "arrowcolor": "#2a3f5f",
           "arrowhead": 0,
           "arrowwidth": 1
          },
          "autotypenumbers": "strict",
          "coloraxis": {
           "colorbar": {
            "outlinewidth": 0,
            "ticks": ""
           }
          },
          "colorscale": {
           "diverging": [
            [
             0,
             "#8e0152"
            ],
            [
             0.1,
             "#c51b7d"
            ],
            [
             0.2,
             "#de77ae"
            ],
            [
             0.3,
             "#f1b6da"
            ],
            [
             0.4,
             "#fde0ef"
            ],
            [
             0.5,
             "#f7f7f7"
            ],
            [
             0.6,
             "#e6f5d0"
            ],
            [
             0.7,
             "#b8e186"
            ],
            [
             0.8,
             "#7fbc41"
            ],
            [
             0.9,
             "#4d9221"
            ],
            [
             1,
             "#276419"
            ]
           ],
           "sequential": [
            [
             0,
             "#0d0887"
            ],
            [
             0.1111111111111111,
             "#46039f"
            ],
            [
             0.2222222222222222,
             "#7201a8"
            ],
            [
             0.3333333333333333,
             "#9c179e"
            ],
            [
             0.4444444444444444,
             "#bd3786"
            ],
            [
             0.5555555555555556,
             "#d8576b"
            ],
            [
             0.6666666666666666,
             "#ed7953"
            ],
            [
             0.7777777777777778,
             "#fb9f3a"
            ],
            [
             0.8888888888888888,
             "#fdca26"
            ],
            [
             1,
             "#f0f921"
            ]
           ],
           "sequentialminus": [
            [
             0,
             "#0d0887"
            ],
            [
             0.1111111111111111,
             "#46039f"
            ],
            [
             0.2222222222222222,
             "#7201a8"
            ],
            [
             0.3333333333333333,
             "#9c179e"
            ],
            [
             0.4444444444444444,
             "#bd3786"
            ],
            [
             0.5555555555555556,
             "#d8576b"
            ],
            [
             0.6666666666666666,
             "#ed7953"
            ],
            [
             0.7777777777777778,
             "#fb9f3a"
            ],
            [
             0.8888888888888888,
             "#fdca26"
            ],
            [
             1,
             "#f0f921"
            ]
           ]
          },
          "colorway": [
           "#636efa",
           "#EF553B",
           "#00cc96",
           "#ab63fa",
           "#FFA15A",
           "#19d3f3",
           "#FF6692",
           "#B6E880",
           "#FF97FF",
           "#FECB52"
          ],
          "font": {
           "color": "#2a3f5f"
          },
          "geo": {
           "bgcolor": "white",
           "lakecolor": "white",
           "landcolor": "white",
           "showlakes": true,
           "showland": true,
           "subunitcolor": "#C8D4E3"
          },
          "hoverlabel": {
           "align": "left"
          },
          "hovermode": "closest",
          "mapbox": {
           "style": "light"
          },
          "paper_bgcolor": "white",
          "plot_bgcolor": "white",
          "polar": {
           "angularaxis": {
            "gridcolor": "#EBF0F8",
            "linecolor": "#EBF0F8",
            "ticks": ""
           },
           "bgcolor": "white",
           "radialaxis": {
            "gridcolor": "#EBF0F8",
            "linecolor": "#EBF0F8",
            "ticks": ""
           }
          },
          "scene": {
           "xaxis": {
            "backgroundcolor": "white",
            "gridcolor": "#DFE8F3",
            "gridwidth": 2,
            "linecolor": "#EBF0F8",
            "showbackground": true,
            "ticks": "",
            "zerolinecolor": "#EBF0F8"
           },
           "yaxis": {
            "backgroundcolor": "white",
            "gridcolor": "#DFE8F3",
            "gridwidth": 2,
            "linecolor": "#EBF0F8",
            "showbackground": true,
            "ticks": "",
            "zerolinecolor": "#EBF0F8"
           },
           "zaxis": {
            "backgroundcolor": "white",
            "gridcolor": "#DFE8F3",
            "gridwidth": 2,
            "linecolor": "#EBF0F8",
            "showbackground": true,
            "ticks": "",
            "zerolinecolor": "#EBF0F8"
           }
          },
          "shapedefaults": {
           "line": {
            "color": "#2a3f5f"
           }
          },
          "ternary": {
           "aaxis": {
            "gridcolor": "#DFE8F3",
            "linecolor": "#A2B1C6",
            "ticks": ""
           },
           "baxis": {
            "gridcolor": "#DFE8F3",
            "linecolor": "#A2B1C6",
            "ticks": ""
           },
           "bgcolor": "white",
           "caxis": {
            "gridcolor": "#DFE8F3",
            "linecolor": "#A2B1C6",
            "ticks": ""
           }
          },
          "title": {
           "x": 0.05
          },
          "xaxis": {
           "automargin": true,
           "gridcolor": "#EBF0F8",
           "linecolor": "#EBF0F8",
           "ticks": "",
           "title": {
            "standoff": 15
           },
           "zerolinecolor": "#EBF0F8",
           "zerolinewidth": 2
          },
          "yaxis": {
           "automargin": true,
           "gridcolor": "#EBF0F8",
           "linecolor": "#EBF0F8",
           "ticks": "",
           "title": {
            "standoff": 15
           },
           "zerolinecolor": "#EBF0F8",
           "zerolinewidth": 2
          }
         }
        },
        "title": {
         "text": "Training vs. Validation Accuracy"
        },
        "xaxis": {
         "autorange": true,
         "range": [
          -2.501181388585969,
          63.50118138858597
         ],
         "title": {
          "text": "Epoch"
         },
         "type": "linear"
        },
        "yaxis": {
         "autorange": true,
         "range": [
          0.11279356081798239,
          1.0676345715968354
         ],
         "title": {
          "text": "Accuracy"
         },
         "type": "linear"
        }
       }
      },
      "image/png": "[encoded data removed]",
      "text/html": [
       "<div>                            <div id=\"dc5970b5-a5a4-4965-84de-62fd72c93e08\" class=\"plotly-graph-div\" style=\"height:525px; width:100%;\"></div>            <script type=\"text/javascript\">                require([\"plotly\"], function(Plotly) {                    window.PLOTLYENV=window.PLOTLYENV || {};                                    if (document.getElementById(\"dc5970b5-a5a4-4965-84de-62fd72c93e08\")) {                    Plotly.newPlot(                        \"dc5970b5-a5a4-4965-84de-62fd72c93e08\",                        [{\"mode\":\"lines+markers\",\"name\":\"Training Accuracy\",\"x\":[1,2,3,4,5,6,7,8,9,10,11,12,13,14,15,16,17,18,19,20,21,22,23,24,25,26,27,28,29,30,31,32,33,34,35,36,37,38,39,40,41,42,43,44,45,46,47,48,49,50,51,52,53,54,55,56,57,58,59,60],\"y\":[0.31192660331726074,0.5168195962905884,0.592252790927887,0.608562707901001,0.6503567695617676,0.6758409738540649,0.7206931710243225,0.7278287410736084,0.756371021270752,0.7635066509246826,0.7838940024375916,0.8103975653648376,0.8267074227333069,0.8409786224365234,0.8205912113189697,0.8674821853637695,0.8379204869270325,0.8440366983413696,0.8583078384399414,0.8725789785385132,0.8868501782417297,0.9082568883895874,0.8960244655609131,0.8868501782417297,0.9153924584388733,0.9041793942451477,0.9082568883895874,0.9153924584388733,0.9266055226325989,0.9255861639976501,0.9306829571723938,0.9459735155105591,0.9571865200996399,0.9408766627311707,0.9398573040962219,0.9255861639976501,0.9245667457580566,0.9551478028297424,0.9520897269248962,0.9510703086853027,0.963302731513977,0.950050950050354,0.9459735155105591,0.9490315914154053,0.9582059383392334,0.9734964370727539,0.9612640142440796,0.9653415083885193,0.9694189429283142,0.9775739312171936,0.9816513657569885,0.9785932898521423,0.983690083026886,0.986748218536377,0.9857288599014282,0.983690083026886,0.9796126484870911,0.9918450713157654,0.9857288599014282,0.9857288599014282],\"type\":\"scatter\"},{\"mode\":\"lines+markers\",\"name\":\"Validation Accuracy\",\"x\":[1,2,3,4,5,6,7,8,9,10,11,12,13,14,15,16,17,18,19,20,21,22,23,24,25,26,27,28,29,30,31,32,33,34,35,36,37,38,39,40,41,42,43,44,45,46,47,48,49,50,51,52,53,54,55,56,57,58,59,60],\"y\":[0.1804281324148178,0.4209989905357361,0.2599388360977173,0.35474005341529846,0.5474005937576294,0.3129459619522095,0.6207951307296753,0.5321100950241089,0.608562707901001,0.6758409738540649,0.7777777910232544,0.7645260095596313,0.822629988193512,0.8073394298553467,0.9266055226325989,0.9276248812675476,0.9255861639976501,0.9469928741455078,0.9062181711196899,0.9296635985374451,0.9459735155105591,0.9184505343437195,0.9571865200996399,0.9490315914154053,0.9602446556091309,0.9571865200996399,0.9480122327804565,0.966360867023468,0.9459735155105591,0.963302731513977,0.9592252969741821,0.9673802256584167,0.9541284441947937,0.9092762470245361,0.9877675771713257,0.9877675771713257,0.7869520783424377,0.9694189429283142,0.9826707243919373,0.9582059383392334,0.9959225058555603,0.9908257126808167,0.9796126484870911,0.9908257126808167,0.9582059383392334,0.9683995842933655,0.9785932898521423,0.9918450713157654,0.986748218536377,1.0,1.0,1.0,1.0,1.0,1.0,0.9949031472206116,1.0,1.0,1.0,1.0],\"type\":\"scatter\"}],                        {\"template\":{\"data\":{\"barpolar\":[{\"marker\":{\"line\":{\"color\":\"white\",\"width\":0.5},\"pattern\":{\"fillmode\":\"overlay\",\"size\":10,\"solidity\":0.2}},\"type\":\"barpolar\"}],\"bar\":[{\"error_x\":{\"color\":\"#2a3f5f\"},\"error_y\":{\"color\":\"#2a3f5f\"},\"marker\":{\"line\":{\"color\":\"white\",\"width\":0.5},\"pattern\":{\"fillmode\":\"overlay\",\"size\":10,\"solidity\":0.2}},\"type\":\"bar\"}],\"carpet\":[{\"aaxis\":{\"endlinecolor\":\"#2a3f5f\",\"gridcolor\":\"#C8D4E3\",\"linecolor\":\"#C8D4E3\",\"minorgridcolor\":\"#C8D4E3\",\"startlinecolor\":\"#2a3f5f\"},\"baxis\":{\"endlinecolor\":\"#2a3f5f\",\"gridcolor\":\"#C8D4E3\",\"linecolor\":\"#C8D4E3\",\"minorgridcolor\":\"#C8D4E3\",\"startlinecolor\":\"#2a3f5f\"},\"type\":\"carpet\"}],\"choropleth\":[{\"colorbar\":{\"outlinewidth\":0,\"ticks\":\"\"},\"type\":\"choropleth\"}],\"contourcarpet\":[{\"colorbar\":{\"outlinewidth\":0,\"ticks\":\"\"},\"type\":\"contourcarpet\"}],\"contour\":[{\"colorbar\":{\"outlinewidth\":0,\"ticks\":\"\"},\"colorscale\":[[0.0,\"#0d0887\"],[0.1111111111111111,\"#46039f\"],[0.2222222222222222,\"#7201a8\"],[0.3333333333333333,\"#9c179e\"],[0.4444444444444444,\"#bd3786\"],[0.5555555555555556,\"#d8576b\"],[0.6666666666666666,\"#ed7953\"],[0.7777777777777778,\"#fb9f3a\"],[0.8888888888888888,\"#fdca26\"],[1.0,\"#f0f921\"]],\"type\":\"contour\"}],\"heatmapgl\":[{\"colorbar\":{\"outlinewidth\":0,\"ticks\":\"\"},\"colorscale\":[[0.0,\"#0d0887\"],[0.1111111111111111,\"#46039f\"],[0.2222222222222222,\"#7201a8\"],[0.3333333333333333,\"#9c179e\"],[0.4444444444444444,\"#bd3786\"],[0.5555555555555556,\"#d8576b\"],[0.6666666666666666,\"#ed7953\"],[0.7777777777777778,\"#fb9f3a\"],[0.8888888888888888,\"#fdca26\"],[1.0,\"#f0f921\"]],\"type\":\"heatmapgl\"}],\"heatmap\":[{\"colorbar\":{\"outlinewidth\":0,\"ticks\":\"\"},\"colorscale\":[[0.0,\"#0d0887\"],[0.1111111111111111,\"#46039f\"],[0.2222222222222222,\"#7201a8\"],[0.3333333333333333,\"#9c179e\"],[0.4444444444444444,\"#bd3786\"],[0.5555555555555556,\"#d8576b\"],[0.6666666666666666,\"#ed7953\"],[0.7777777777777778,\"#fb9f3a\"],[0.8888888888888888,\"#fdca26\"],[1.0,\"#f0f921\"]],\"type\":\"heatmap\"}],\"histogram2dcontour\":[{\"colorbar\":{\"outlinewidth\":0,\"ticks\":\"\"},\"colorscale\":[[0.0,\"#0d0887\"],[0.1111111111111111,\"#46039f\"],[0.2222222222222222,\"#7201a8\"],[0.3333333333333333,\"#9c179e\"],[0.4444444444444444,\"#bd3786\"],[0.5555555555555556,\"#d8576b\"],[0.6666666666666666,\"#ed7953\"],[0.7777777777777778,\"#fb9f3a\"],[0.8888888888888888,\"#fdca26\"],[1.0,\"#f0f921\"]],\"type\":\"histogram2dcontour\"}],\"histogram2d\":[{\"colorbar\":{\"outlinewidth\":0,\"ticks\":\"\"},\"colorscale\":[[0.0,\"#0d0887\"],[0.1111111111111111,\"#46039f\"],[0.2222222222222222,\"#7201a8\"],[0.3333333333333333,\"#9c179e\"],[0.4444444444444444,\"#bd3786\"],[0.5555555555555556,\"#d8576b\"],[0.6666666666666666,\"#ed7953\"],[0.7777777777777778,\"#fb9f3a\"],[0.8888888888888888,\"#fdca26\"],[1.0,\"#f0f921\"]],\"type\":\"histogram2d\"}],\"histogram\":[{\"marker\":{\"pattern\":{\"fillmode\":\"overlay\",\"size\":10,\"solidity\":0.2}},\"type\":\"histogram\"}],\"mesh3d\":[{\"colorbar\":{\"outlinewidth\":0,\"ticks\":\"\"},\"type\":\"mesh3d\"}],\"parcoords\":[{\"line\":{\"colorbar\":{\"outlinewidth\":0,\"ticks\":\"\"}},\"type\":\"parcoords\"}],\"pie\":[{\"automargin\":true,\"type\":\"pie\"}],\"scatter3d\":[{\"line\":{\"colorbar\":{\"outlinewidth\":0,\"ticks\":\"\"}},\"marker\":{\"colorbar\":{\"outlinewidth\":0,\"ticks\":\"\"}},\"type\":\"scatter3d\"}],\"scattercarpet\":[{\"marker\":{\"colorbar\":{\"outlinewidth\":0,\"ticks\":\"\"}},\"type\":\"scattercarpet\"}],\"scattergeo\":[{\"marker\":{\"colorbar\":{\"outlinewidth\":0,\"ticks\":\"\"}},\"type\":\"scattergeo\"}],\"scattergl\":[{\"marker\":{\"colorbar\":{\"outlinewidth\":0,\"ticks\":\"\"}},\"type\":\"scattergl\"}],\"scattermapbox\":[{\"marker\":{\"colorbar\":{\"outlinewidth\":0,\"ticks\":\"\"}},\"type\":\"scattermapbox\"}],\"scatterpolargl\":[{\"marker\":{\"colorbar\":{\"outlinewidth\":0,\"ticks\":\"\"}},\"type\":\"scatterpolargl\"}],\"scatterpolar\":[{\"marker\":{\"colorbar\":{\"outlinewidth\":0,\"ticks\":\"\"}},\"type\":\"scatterpolar\"}],\"scatter\":[{\"fillpattern\":{\"fillmode\":\"overlay\",\"size\":10,\"solidity\":0.2},\"type\":\"scatter\"}],\"scatterternary\":[{\"marker\":{\"colorbar\":{\"outlinewidth\":0,\"ticks\":\"\"}},\"type\":\"scatterternary\"}],\"surface\":[{\"colorbar\":{\"outlinewidth\":0,\"ticks\":\"\"},\"colorscale\":[[0.0,\"#0d0887\"],[0.1111111111111111,\"#46039f\"],[0.2222222222222222,\"#7201a8\"],[0.3333333333333333,\"#9c179e\"],[0.4444444444444444,\"#bd3786\"],[0.5555555555555556,\"#d8576b\"],[0.6666666666666666,\"#ed7953\"],[0.7777777777777778,\"#fb9f3a\"],[0.8888888888888888,\"#fdca26\"],[1.0,\"#f0f921\"]],\"type\":\"surface\"}],\"table\":[{\"cells\":{\"fill\":{\"color\":\"#EBF0F8\"},\"line\":{\"color\":\"white\"}},\"header\":{\"fill\":{\"color\":\"#C8D4E3\"},\"line\":{\"color\":\"white\"}},\"type\":\"table\"}]},\"layout\":{\"annotationdefaults\":{\"arrowcolor\":\"#2a3f5f\",\"arrowhead\":0,\"arrowwidth\":1},\"autotypenumbers\":\"strict\",\"coloraxis\":{\"colorbar\":{\"outlinewidth\":0,\"ticks\":\"\"}},\"colorscale\":{\"diverging\":[[0,\"#8e0152\"],[0.1,\"#c51b7d\"],[0.2,\"#de77ae\"],[0.3,\"#f1b6da\"],[0.4,\"#fde0ef\"],[0.5,\"#f7f7f7\"],[0.6,\"#e6f5d0\"],[0.7,\"#b8e186\"],[0.8,\"#7fbc41\"],[0.9,\"#4d9221\"],[1,\"#276419\"]],\"sequential\":[[0.0,\"#0d0887\"],[0.1111111111111111,\"#46039f\"],[0.2222222222222222,\"#7201a8\"],[0.3333333333333333,\"#9c179e\"],[0.4444444444444444,\"#bd3786\"],[0.5555555555555556,\"#d8576b\"],[0.6666666666666666,\"#ed7953\"],[0.7777777777777778,\"#fb9f3a\"],[0.8888888888888888,\"#fdca26\"],[1.0,\"#f0f921\"]],\"sequentialminus\":[[0.0,\"#0d0887\"],[0.1111111111111111,\"#46039f\"],[0.2222222222222222,\"#7201a8\"],[0.3333333333333333,\"#9c179e\"],[0.4444444444444444,\"#bd3786\"],[0.5555555555555556,\"#d8576b\"],[0.6666666666666666,\"#ed7953\"],[0.7777777777777778,\"#fb9f3a\"],[0.8888888888888888,\"#fdca26\"],[1.0,\"#f0f921\"]]},\"colorway\":[\"#636efa\",\"#EF553B\",\"#00cc96\",\"#ab63fa\",\"#FFA15A\",\"#19d3f3\",\"#FF6692\",\"#B6E880\",\"#FF97FF\",\"#FECB52\"],\"font\":{\"color\":\"#2a3f5f\"},\"geo\":{\"bgcolor\":\"white\",\"lakecolor\":\"white\",\"landcolor\":\"white\",\"showlakes\":true,\"showland\":true,\"subunitcolor\":\"#C8D4E3\"},\"hoverlabel\":{\"align\":\"left\"},\"hovermode\":\"closest\",\"mapbox\":{\"style\":\"light\"},\"paper_bgcolor\":\"white\",\"plot_bgcolor\":\"white\",\"polar\":{\"angularaxis\":{\"gridcolor\":\"#EBF0F8\",\"linecolor\":\"#EBF0F8\",\"ticks\":\"\"},\"bgcolor\":\"white\",\"radialaxis\":{\"gridcolor\":\"#EBF0F8\",\"linecolor\":\"#EBF0F8\",\"ticks\":\"\"}},\"scene\":{\"xaxis\":{\"backgroundcolor\":\"white\",\"gridcolor\":\"#DFE8F3\",\"gridwidth\":2,\"linecolor\":\"#EBF0F8\",\"showbackground\":true,\"ticks\":\"\",\"zerolinecolor\":\"#EBF0F8\"},\"yaxis\":{\"backgroundcolor\":\"white\",\"gridcolor\":\"#DFE8F3\",\"gridwidth\":2,\"linecolor\":\"#EBF0F8\",\"showbackground\":true,\"ticks\":\"\",\"zerolinecolor\":\"#EBF0F8\"},\"zaxis\":{\"backgroundcolor\":\"white\",\"gridcolor\":\"#DFE8F3\",\"gridwidth\":2,\"linecolor\":\"#EBF0F8\",\"showbackground\":true,\"ticks\":\"\",\"zerolinecolor\":\"#EBF0F8\"}},\"shapedefaults\":{\"line\":{\"color\":\"#2a3f5f\"}},\"ternary\":{\"aaxis\":{\"gridcolor\":\"#DFE8F3\",\"linecolor\":\"#A2B1C6\",\"ticks\":\"\"},\"baxis\":{\"gridcolor\":\"#DFE8F3\",\"linecolor\":\"#A2B1C6\",\"ticks\":\"\"},\"bgcolor\":\"white\",\"caxis\":{\"gridcolor\":\"#DFE8F3\",\"linecolor\":\"#A2B1C6\",\"ticks\":\"\"}},\"title\":{\"x\":0.05},\"xaxis\":{\"automargin\":true,\"gridcolor\":\"#EBF0F8\",\"linecolor\":\"#EBF0F8\",\"ticks\":\"\",\"title\":{\"standoff\":15},\"zerolinecolor\":\"#EBF0F8\",\"zerolinewidth\":2},\"yaxis\":{\"automargin\":true,\"gridcolor\":\"#EBF0F8\",\"linecolor\":\"#EBF0F8\",\"ticks\":\"\",\"title\":{\"standoff\":15},\"zerolinecolor\":\"#EBF0F8\",\"zerolinewidth\":2}}},\"title\":{\"text\":\"Training vs. Validation Accuracy\"},\"xaxis\":{\"title\":{\"text\":\"Epoch\"}},\"yaxis\":{\"title\":{\"text\":\"Accuracy\"}}},                        {\"responsive\": true}                    ).then(function(){\n",
       "                            \n",
       "var gd = document.getElementById('dc5970b5-a5a4-4965-84de-62fd72c93e08');\n",
       "var x = new MutationObserver(function (mutations, observer) {{\n",
       "        var display = window.getComputedStyle(gd).display;\n",
       "        if (!display || display === 'none') {{\n",
       "            console.log([gd, 'removed!']);\n",
       "            Plotly.purge(gd);\n",
       "            observer.disconnect();\n",
       "        }}\n",
       "}});\n",
       "\n",
       "// Listen for the removal of the full notebook cells\n",
       "var notebookContainer = gd.closest('#notebook-container');\n",
       "if (notebookContainer) {{\n",
       "    x.observe(notebookContainer, {childList: true});\n",
       "}}\n",
       "\n",
       "// Listen for the clearing of the current output cell\n",
       "var outputEl = gd.closest('.output');\n",
       "if (outputEl) {{\n",
       "    x.observe(outputEl, {childList: true});\n",
       "}}\n",
       "\n",
       "                        })                };                });            </script>        </div>"
      ]
     },
     "metadata": {},
     "output_type": "display_data"
    },
    {
     "data": {
      "application/vnd.plotly.v1+json": {
       "config": {
        "plotlyServerURL": "https://plot.ly"
       },
       "data": [
        {
         "mode": "lines+markers",
         "name": "Training Loss",
         "type": "scatter",
         "x": [
          1,
          2,
          3,
          4,
          5,
          6,
          7,
          8,
          9,
          10,
          11,
          12,
          13,
          14,
          15,
          16,
          17,
          18,
          19,
          20,
          21,
          22,
          23,
          24,
          25,
          26,
          27,
          28,
          29,
          30,
          31,
          32,
          33,
          34,
          35,
          36,
          37,
          38,
          39,
          40,
          41,
          42,
          43,
          44,
          45,
          46,
          47,
          48,
          49,
          50,
          51,
          52,
          53,
          54,
          55,
          56,
          57,
          58,
          59,
          60
         ],
         "y": [
          2.342690944671631,
          1.4085798263549805,
          1.1825045347213745,
          1.058761477470398,
          0.9340196251869202,
          0.8697079420089722,
          0.7748692631721497,
          0.7402650117874146,
          0.6635790467262268,
          0.6215544939041138,
          0.5849959254264832,
          0.522712767124176,
          0.46070733666419983,
          0.46301665902137756,
          0.4864504933357239,
          0.37419551610946655,
          0.43161341547966003,
          0.4188854694366455,
          0.38278722763061523,
          0.35526004433631897,
          0.3178633749485016,
          0.28233104944229126,
          0.26910480856895447,
          0.28745192289352417,
          0.25520405173301697,
          0.29183492064476013,
          0.24758535623550415,
          0.23312723636627197,
          0.22200120985507965,
          0.21032510697841644,
          0.19729231297969818,
          0.16850528120994568,
          0.1486389935016632,
          0.17084474861621857,
          0.17025578022003174,
          0.19386780261993408,
          0.18592342734336853,
          0.1565055400133133,
          0.15411600470542908,
          0.14985792338848114,
          0.13891896605491638,
          0.12342580407857895,
          0.14413456618785858,
          0.13008548319339752,
          0.1174570769071579,
          0.08987162262201309,
          0.11307606846094131,
          0.11788764595985413,
          0.10168834775686264,
          0.07487837225198746,
          0.06465049088001251,
          0.06819939613342285,
          0.054381418973207474,
          0.05811947211623192,
          0.060838229954242706,
          0.05431709811091423,
          0.06019894406199455,
          0.04176557809114456,
          0.04750832915306091,
          0.052005548030138016
         ]
        },
        {
         "mode": "lines+markers",
         "name": "Validation Loss",
         "type": "scatter",
         "x": [
          1,
          2,
          3,
          4,
          5,
          6,
          7,
          8,
          9,
          10,
          11,
          12,
          13,
          14,
          15,
          16,
          17,
          18,
          19,
          20,
          21,
          22,
          23,
          24,
          25,
          26,
          27,
          28,
          29,
          30,
          31,
          32,
          33,
          34,
          35,
          36,
          37,
          38,
          39,
          40,
          41,
          42,
          43,
          44,
          45,
          46,
          47,
          48,
          49,
          50,
          51,
          52,
          53,
          54,
          55,
          56,
          57,
          58,
          59,
          60
         ],
         "y": [
          98.3299560546875,
          10.76853084564209,
          15.565522193908691,
          5.80275821685791,
          2.710874319076538,
          6.116661548614502,
          1.435236930847168,
          2.8256430625915527,
          1.4871348142623901,
          1.1083136796951294,
          0.6521011590957642,
          0.7829664945602417,
          0.5372052788734436,
          0.4744247794151306,
          0.23583939671516418,
          0.2048799991607666,
          0.22752541303634644,
          0.1891733705997467,
          0.22869975864887238,
          0.1835436075925827,
          0.16030997037887573,
          0.21680346131324768,
          0.1413823664188385,
          0.13532549142837524,
          0.13529811799526215,
          0.11890938878059387,
          0.146901473402977,
          0.08773181587457657,
          0.14590772986412048,
          0.08966939896345139,
          0.1286081075668335,
          0.08943381160497665,
          0.1145922988653183,
          0.21722975373268127,
          0.05157332494854927,
          0.03652927279472351,
          0.6248534321784973,
          0.07921279966831207,
          0.054447613656520844,
          0.10507398098707199,
          0.03142036497592926,
          0.04325450584292412,
          0.05655531585216522,
          0.04052085056900978,
          0.08351799845695496,
          0.09370436519384384,
          0.054584793746471405,
          0.024926159530878067,
          0.06457287818193436,
          0.010880501009523869,
          0.007521916180849075,
          0.006466575898230076,
          0.008484198711812496,
          0.00529165705665946,
          0.009562863036990166,
          0.03311275318264961,
          0.008545605465769768,
          0.007494708057492971,
          0.0027425449807196856,
          0.004373451229184866
         ]
        }
       ],
       "layout": {
        "autosize": true,
        "template": {
         "data": {
          "bar": [
           {
            "error_x": {
             "color": "#2a3f5f"
            },
            "error_y": {
             "color": "#2a3f5f"
            },
            "marker": {
             "line": {
              "color": "white",
              "width": 0.5
             },
             "pattern": {
              "fillmode": "overlay",
              "size": 10,
              "solidity": 0.2
             }
            },
            "type": "bar"
           }
          ],
          "barpolar": [
           {
            "marker": {
             "line": {
              "color": "white",
              "width": 0.5
             },
             "pattern": {
              "fillmode": "overlay",
              "size": 10,
              "solidity": 0.2
             }
            },
            "type": "barpolar"
           }
          ],
          "carpet": [
           {
            "aaxis": {
             "endlinecolor": "#2a3f5f",
             "gridcolor": "#C8D4E3",
             "linecolor": "#C8D4E3",
             "minorgridcolor": "#C8D4E3",
             "startlinecolor": "#2a3f5f"
            },
            "baxis": {
             "endlinecolor": "#2a3f5f",
             "gridcolor": "#C8D4E3",
             "linecolor": "#C8D4E3",
             "minorgridcolor": "#C8D4E3",
             "startlinecolor": "#2a3f5f"
            },
            "type": "carpet"
           }
          ],
          "choropleth": [
           {
            "colorbar": {
             "outlinewidth": 0,
             "ticks": ""
            },
            "type": "choropleth"
           }
          ],
          "contour": [
           {
            "colorbar": {
             "outlinewidth": 0,
             "ticks": ""
            },
            "colorscale": [
             [
              0,
              "#0d0887"
             ],
             [
              0.1111111111111111,
              "#46039f"
             ],
             [
              0.2222222222222222,
              "#7201a8"
             ],
             [
              0.3333333333333333,
              "#9c179e"
             ],
             [
              0.4444444444444444,
              "#bd3786"
             ],
             [
              0.5555555555555556,
              "#d8576b"
             ],
             [
              0.6666666666666666,
              "#ed7953"
             ],
             [
              0.7777777777777778,
              "#fb9f3a"
             ],
             [
              0.8888888888888888,
              "#fdca26"
             ],
             [
              1,
              "#f0f921"
             ]
            ],
            "type": "contour"
           }
          ],
          "contourcarpet": [
           {
            "colorbar": {
             "outlinewidth": 0,
             "ticks": ""
            },
            "type": "contourcarpet"
           }
          ],
          "heatmap": [
           {
            "colorbar": {
             "outlinewidth": 0,
             "ticks": ""
            },
            "colorscale": [
             [
              0,
              "#0d0887"
             ],
             [
              0.1111111111111111,
              "#46039f"
             ],
             [
              0.2222222222222222,
              "#7201a8"
             ],
             [
              0.3333333333333333,
              "#9c179e"
             ],
             [
              0.4444444444444444,
              "#bd3786"
             ],
             [
              0.5555555555555556,
              "#d8576b"
             ],
             [
              0.6666666666666666,
              "#ed7953"
             ],
             [
              0.7777777777777778,
              "#fb9f3a"
             ],
             [
              0.8888888888888888,
              "#fdca26"
             ],
             [
              1,
              "#f0f921"
             ]
            ],
            "type": "heatmap"
           }
          ],
          "heatmapgl": [
           {
            "colorbar": {
             "outlinewidth": 0,
             "ticks": ""
            },
            "colorscale": [
             [
              0,
              "#0d0887"
             ],
             [
              0.1111111111111111,
              "#46039f"
             ],
             [
              0.2222222222222222,
              "#7201a8"
             ],
             [
              0.3333333333333333,
              "#9c179e"
             ],
             [
              0.4444444444444444,
              "#bd3786"
             ],
             [
              0.5555555555555556,
              "#d8576b"
             ],
             [
              0.6666666666666666,
              "#ed7953"
             ],
             [
              0.7777777777777778,
              "#fb9f3a"
             ],
             [
              0.8888888888888888,
              "#fdca26"
             ],
             [
              1,
              "#f0f921"
             ]
            ],
            "type": "heatmapgl"
           }
          ],
          "histogram": [
           {
            "marker": {
             "pattern": {
              "fillmode": "overlay",
              "size": 10,
              "solidity": 0.2
             }
            },
            "type": "histogram"
           }
          ],
          "histogram2d": [
           {
            "colorbar": {
             "outlinewidth": 0,
             "ticks": ""
            },
            "colorscale": [
             [
              0,
              "#0d0887"
             ],
             [
              0.1111111111111111,
              "#46039f"
             ],
             [
              0.2222222222222222,
              "#7201a8"
             ],
             [
              0.3333333333333333,
              "#9c179e"
             ],
             [
              0.4444444444444444,
              "#bd3786"
             ],
             [
              0.5555555555555556,
              "#d8576b"
             ],
             [
              0.6666666666666666,
              "#ed7953"
             ],
             [
              0.7777777777777778,
              "#fb9f3a"
             ],
             [
              0.8888888888888888,
              "#fdca26"
             ],
             [
              1,
              "#f0f921"
             ]
            ],
            "type": "histogram2d"
           }
          ],
          "histogram2dcontour": [
           {
            "colorbar": {
             "outlinewidth": 0,
             "ticks": ""
            },
            "colorscale": [
             [
              0,
              "#0d0887"
             ],
             [
              0.1111111111111111,
              "#46039f"
             ],
             [
              0.2222222222222222,
              "#7201a8"
             ],
             [
              0.3333333333333333,
              "#9c179e"
             ],
             [
              0.4444444444444444,
              "#bd3786"
             ],
             [
              0.5555555555555556,
              "#d8576b"
             ],
             [
              0.6666666666666666,
              "#ed7953"
             ],
             [
              0.7777777777777778,
              "#fb9f3a"
             ],
             [
              0.8888888888888888,
              "#fdca26"
             ],
             [
              1,
              "#f0f921"
             ]
            ],
            "type": "histogram2dcontour"
           }
          ],
          "mesh3d": [
           {
            "colorbar": {
             "outlinewidth": 0,
             "ticks": ""
            },
            "type": "mesh3d"
           }
          ],
          "parcoords": [
           {
            "line": {
             "colorbar": {
              "outlinewidth": 0,
              "ticks": ""
             }
            },
            "type": "parcoords"
           }
          ],
          "pie": [
           {
            "automargin": true,
            "type": "pie"
           }
          ],
          "scatter": [
           {
            "fillpattern": {
             "fillmode": "overlay",
             "size": 10,
             "solidity": 0.2
            },
            "type": "scatter"
           }
          ],
          "scatter3d": [
           {
            "line": {
             "colorbar": {
              "outlinewidth": 0,
              "ticks": ""
             }
            },
            "marker": {
             "colorbar": {
              "outlinewidth": 0,
              "ticks": ""
             }
            },
            "type": "scatter3d"
           }
          ],
          "scattercarpet": [
           {
            "marker": {
             "colorbar": {
              "outlinewidth": 0,
              "ticks": ""
             }
            },
            "type": "scattercarpet"
           }
          ],
          "scattergeo": [
           {
            "marker": {
             "colorbar": {
              "outlinewidth": 0,
              "ticks": ""
             }
            },
            "type": "scattergeo"
           }
          ],
          "scattergl": [
           {
            "marker": {
             "colorbar": {
              "outlinewidth": 0,
              "ticks": ""
             }
            },
            "type": "scattergl"
           }
          ],
          "scattermapbox": [
           {
            "marker": {
             "colorbar": {
              "outlinewidth": 0,
              "ticks": ""
             }
            },
            "type": "scattermapbox"
           }
          ],
          "scatterpolar": [
           {
            "marker": {
             "colorbar": {
              "outlinewidth": 0,
              "ticks": ""
             }
            },
            "type": "scatterpolar"
           }
          ],
          "scatterpolargl": [
           {
            "marker": {
             "colorbar": {
              "outlinewidth": 0,
              "ticks": ""
             }
            },
            "type": "scatterpolargl"
           }
          ],
          "scatterternary": [
           {
            "marker": {
             "colorbar": {
              "outlinewidth": 0,
              "ticks": ""
             }
            },
            "type": "scatterternary"
           }
          ],
          "surface": [
           {
            "colorbar": {
             "outlinewidth": 0,
             "ticks": ""
            },
            "colorscale": [
             [
              0,
              "#0d0887"
             ],
             [
              0.1111111111111111,
              "#46039f"
             ],
             [
              0.2222222222222222,
              "#7201a8"
             ],
             [
              0.3333333333333333,
              "#9c179e"
             ],
             [
              0.4444444444444444,
              "#bd3786"
             ],
             [
              0.5555555555555556,
              "#d8576b"
             ],
             [
              0.6666666666666666,
              "#ed7953"
             ],
             [
              0.7777777777777778,
              "#fb9f3a"
             ],
             [
              0.8888888888888888,
              "#fdca26"
             ],
             [
              1,
              "#f0f921"
             ]
            ],
            "type": "surface"
           }
          ],
          "table": [
           {
            "cells": {
             "fill": {
              "color": "#EBF0F8"
             },
             "line": {
              "color": "white"
             }
            },
            "header": {
             "fill": {
              "color": "#C8D4E3"
             },
             "line": {
              "color": "white"
             }
            },
            "type": "table"
           }
          ]
         },
         "layout": {
          "annotationdefaults": {
           "arrowcolor": "#2a3f5f",
           "arrowhead": 0,
           "arrowwidth": 1
          },
          "autotypenumbers": "strict",
          "coloraxis": {
           "colorbar": {
            "outlinewidth": 0,
            "ticks": ""
           }
          },
          "colorscale": {
           "diverging": [
            [
             0,
             "#8e0152"
            ],
            [
             0.1,
             "#c51b7d"
            ],
            [
             0.2,
             "#de77ae"
            ],
            [
             0.3,
             "#f1b6da"
            ],
            [
             0.4,
             "#fde0ef"
            ],
            [
             0.5,
             "#f7f7f7"
            ],
            [
             0.6,
             "#e6f5d0"
            ],
            [
             0.7,
             "#b8e186"
            ],
            [
             0.8,
             "#7fbc41"
            ],
            [
             0.9,
             "#4d9221"
            ],
            [
             1,
             "#276419"
            ]
           ],
           "sequential": [
            [
             0,
             "#0d0887"
            ],
            [
             0.1111111111111111,
             "#46039f"
            ],
            [
             0.2222222222222222,
             "#7201a8"
            ],
            [
             0.3333333333333333,
             "#9c179e"
            ],
            [
             0.4444444444444444,
             "#bd3786"
            ],
            [
             0.5555555555555556,
             "#d8576b"
            ],
            [
             0.6666666666666666,
             "#ed7953"
            ],
            [
             0.7777777777777778,
             "#fb9f3a"
            ],
            [
             0.8888888888888888,
             "#fdca26"
            ],
            [
             1,
             "#f0f921"
            ]
           ],
           "sequentialminus": [
            [
             0,
             "#0d0887"
            ],
            [
             0.1111111111111111,
             "#46039f"
            ],
            [
             0.2222222222222222,
             "#7201a8"
            ],
            [
             0.3333333333333333,
             "#9c179e"
            ],
            [
             0.4444444444444444,
             "#bd3786"
            ],
            [
             0.5555555555555556,
             "#d8576b"
            ],
            [
             0.6666666666666666,
             "#ed7953"
            ],
            [
             0.7777777777777778,
             "#fb9f3a"
            ],
            [
             0.8888888888888888,
             "#fdca26"
            ],
            [
             1,
             "#f0f921"
            ]
           ]
          },
          "colorway": [
           "#636efa",
           "#EF553B",
           "#00cc96",
           "#ab63fa",
           "#FFA15A",
           "#19d3f3",
           "#FF6692",
           "#B6E880",
           "#FF97FF",
           "#FECB52"
          ],
          "font": {
           "color": "#2a3f5f"
          },
          "geo": {
           "bgcolor": "white",
           "lakecolor": "white",
           "landcolor": "white",
           "showlakes": true,
           "showland": true,
           "subunitcolor": "#C8D4E3"
          },
          "hoverlabel": {
           "align": "left"
          },
          "hovermode": "closest",
          "mapbox": {
           "style": "light"
          },
          "paper_bgcolor": "white",
          "plot_bgcolor": "white",
          "polar": {
           "angularaxis": {
            "gridcolor": "#EBF0F8",
            "linecolor": "#EBF0F8",
            "ticks": ""
           },
           "bgcolor": "white",
           "radialaxis": {
            "gridcolor": "#EBF0F8",
            "linecolor": "#EBF0F8",
            "ticks": ""
           }
          },
          "scene": {
           "xaxis": {
            "backgroundcolor": "white",
            "gridcolor": "#DFE8F3",
            "gridwidth": 2,
            "linecolor": "#EBF0F8",
            "showbackground": true,
            "ticks": "",
            "zerolinecolor": "#EBF0F8"
           },
           "yaxis": {
            "backgroundcolor": "white",
            "gridcolor": "#DFE8F3",
            "gridwidth": 2,
            "linecolor": "#EBF0F8",
            "showbackground": true,
            "ticks": "",
            "zerolinecolor": "#EBF0F8"
           },
           "zaxis": {
            "backgroundcolor": "white",
            "gridcolor": "#DFE8F3",
            "gridwidth": 2,
            "linecolor": "#EBF0F8",
            "showbackground": true,
            "ticks": "",
            "zerolinecolor": "#EBF0F8"
           }
          },
          "shapedefaults": {
           "line": {
            "color": "#2a3f5f"
           }
          },
          "ternary": {
           "aaxis": {
            "gridcolor": "#DFE8F3",
            "linecolor": "#A2B1C6",
            "ticks": ""
           },
           "baxis": {
            "gridcolor": "#DFE8F3",
            "linecolor": "#A2B1C6",
            "ticks": ""
           },
           "bgcolor": "white",
           "caxis": {
            "gridcolor": "#DFE8F3",
            "linecolor": "#A2B1C6",
            "ticks": ""
           }
          },
          "title": {
           "x": 0.05
          },
          "xaxis": {
           "automargin": true,
           "gridcolor": "#EBF0F8",
           "linecolor": "#EBF0F8",
           "ticks": "",
           "title": {
            "standoff": 15
           },
           "zerolinecolor": "#EBF0F8",
           "zerolinewidth": 2
          },
          "yaxis": {
           "automargin": true,
           "gridcolor": "#EBF0F8",
           "linecolor": "#EBF0F8",
           "ticks": "",
           "title": {
            "standoff": 15
           },
           "zerolinecolor": "#EBF0F8",
           "zerolinewidth": 2
          }
         }
        },
        "title": {
         "text": "Training vs. Validation Loss"
        },
        "xaxis": {
         "autorange": true,
         "range": [
          -2.4963545834444747,
          63.49635458344447
         ],
         "title": {
          "text": "Epoch"
         },
         "type": "linear"
        },
        "yaxis": {
         "autorange": true,
         "range": [
          -8.111639152422267,
          106.44433775209049
         ],
         "title": {
          "text": "Loss"
         },
         "type": "linear"
        }
       }
      },
      "image/png": "[encoded data removed]",
      "text/html": [
       "<div>                            <div id=\"06c76b9a-4585-455b-9eaf-d888b187c542\" class=\"plotly-graph-div\" style=\"height:525px; width:100%;\"></div>            <script type=\"text/javascript\">                require([\"plotly\"], function(Plotly) {                    window.PLOTLYENV=window.PLOTLYENV || {};                                    if (document.getElementById(\"06c76b9a-4585-455b-9eaf-d888b187c542\")) {                    Plotly.newPlot(                        \"06c76b9a-4585-455b-9eaf-d888b187c542\",                        [{\"mode\":\"lines+markers\",\"name\":\"Training Loss\",\"x\":[1,2,3,4,5,6,7,8,9,10,11,12,13,14,15,16,17,18,19,20,21,22,23,24,25,26,27,28,29,30,31,32,33,34,35,36,37,38,39,40,41,42,43,44,45,46,47,48,49,50,51,52,53,54,55,56,57,58,59,60],\"y\":[2.342690944671631,1.4085798263549805,1.1825045347213745,1.058761477470398,0.9340196251869202,0.8697079420089722,0.7748692631721497,0.7402650117874146,0.6635790467262268,0.6215544939041138,0.5849959254264832,0.522712767124176,0.46070733666419983,0.46301665902137756,0.4864504933357239,0.37419551610946655,0.43161341547966003,0.4188854694366455,0.38278722763061523,0.35526004433631897,0.3178633749485016,0.28233104944229126,0.26910480856895447,0.28745192289352417,0.25520405173301697,0.29183492064476013,0.24758535623550415,0.23312723636627197,0.22200120985507965,0.21032510697841644,0.19729231297969818,0.16850528120994568,0.1486389935016632,0.17084474861621857,0.17025578022003174,0.19386780261993408,0.18592342734336853,0.1565055400133133,0.15411600470542908,0.14985792338848114,0.13891896605491638,0.12342580407857895,0.14413456618785858,0.13008548319339752,0.1174570769071579,0.08987162262201309,0.11307606846094131,0.11788764595985413,0.10168834775686264,0.07487837225198746,0.06465049088001251,0.06819939613342285,0.054381418973207474,0.05811947211623192,0.060838229954242706,0.05431709811091423,0.06019894406199455,0.04176557809114456,0.04750832915306091,0.052005548030138016],\"type\":\"scatter\"},{\"mode\":\"lines+markers\",\"name\":\"Validation Loss\",\"x\":[1,2,3,4,5,6,7,8,9,10,11,12,13,14,15,16,17,18,19,20,21,22,23,24,25,26,27,28,29,30,31,32,33,34,35,36,37,38,39,40,41,42,43,44,45,46,47,48,49,50,51,52,53,54,55,56,57,58,59,60],\"y\":[98.3299560546875,10.76853084564209,15.565522193908691,5.80275821685791,2.710874319076538,6.116661548614502,1.435236930847168,2.8256430625915527,1.4871348142623901,1.1083136796951294,0.6521011590957642,0.7829664945602417,0.5372052788734436,0.4744247794151306,0.23583939671516418,0.2048799991607666,0.22752541303634644,0.1891733705997467,0.22869975864887238,0.1835436075925827,0.16030997037887573,0.21680346131324768,0.1413823664188385,0.13532549142837524,0.13529811799526215,0.11890938878059387,0.146901473402977,0.08773181587457657,0.14590772986412048,0.08966939896345139,0.1286081075668335,0.08943381160497665,0.1145922988653183,0.21722975373268127,0.05157332494854927,0.03652927279472351,0.6248534321784973,0.07921279966831207,0.054447613656520844,0.10507398098707199,0.03142036497592926,0.04325450584292412,0.05655531585216522,0.04052085056900978,0.08351799845695496,0.09370436519384384,0.054584793746471405,0.024926159530878067,0.06457287818193436,0.010880501009523869,0.007521916180849075,0.006466575898230076,0.008484198711812496,0.00529165705665946,0.009562863036990166,0.03311275318264961,0.008545605465769768,0.007494708057492971,0.0027425449807196856,0.004373451229184866],\"type\":\"scatter\"}],                        {\"template\":{\"data\":{\"barpolar\":[{\"marker\":{\"line\":{\"color\":\"white\",\"width\":0.5},\"pattern\":{\"fillmode\":\"overlay\",\"size\":10,\"solidity\":0.2}},\"type\":\"barpolar\"}],\"bar\":[{\"error_x\":{\"color\":\"#2a3f5f\"},\"error_y\":{\"color\":\"#2a3f5f\"},\"marker\":{\"line\":{\"color\":\"white\",\"width\":0.5},\"pattern\":{\"fillmode\":\"overlay\",\"size\":10,\"solidity\":0.2}},\"type\":\"bar\"}],\"carpet\":[{\"aaxis\":{\"endlinecolor\":\"#2a3f5f\",\"gridcolor\":\"#C8D4E3\",\"linecolor\":\"#C8D4E3\",\"minorgridcolor\":\"#C8D4E3\",\"startlinecolor\":\"#2a3f5f\"},\"baxis\":{\"endlinecolor\":\"#2a3f5f\",\"gridcolor\":\"#C8D4E3\",\"linecolor\":\"#C8D4E3\",\"minorgridcolor\":\"#C8D4E3\",\"startlinecolor\":\"#2a3f5f\"},\"type\":\"carpet\"}],\"choropleth\":[{\"colorbar\":{\"outlinewidth\":0,\"ticks\":\"\"},\"type\":\"choropleth\"}],\"contourcarpet\":[{\"colorbar\":{\"outlinewidth\":0,\"ticks\":\"\"},\"type\":\"contourcarpet\"}],\"contour\":[{\"colorbar\":{\"outlinewidth\":0,\"ticks\":\"\"},\"colorscale\":[[0.0,\"#0d0887\"],[0.1111111111111111,\"#46039f\"],[0.2222222222222222,\"#7201a8\"],[0.3333333333333333,\"#9c179e\"],[0.4444444444444444,\"#bd3786\"],[0.5555555555555556,\"#d8576b\"],[0.6666666666666666,\"#ed7953\"],[0.7777777777777778,\"#fb9f3a\"],[0.8888888888888888,\"#fdca26\"],[1.0,\"#f0f921\"]],\"type\":\"contour\"}],\"heatmapgl\":[{\"colorbar\":{\"outlinewidth\":0,\"ticks\":\"\"},\"colorscale\":[[0.0,\"#0d0887\"],[0.1111111111111111,\"#46039f\"],[0.2222222222222222,\"#7201a8\"],[0.3333333333333333,\"#9c179e\"],[0.4444444444444444,\"#bd3786\"],[0.5555555555555556,\"#d8576b\"],[0.6666666666666666,\"#ed7953\"],[0.7777777777777778,\"#fb9f3a\"],[0.8888888888888888,\"#fdca26\"],[1.0,\"#f0f921\"]],\"type\":\"heatmapgl\"}],\"heatmap\":[{\"colorbar\":{\"outlinewidth\":0,\"ticks\":\"\"},\"colorscale\":[[0.0,\"#0d0887\"],[0.1111111111111111,\"#46039f\"],[0.2222222222222222,\"#7201a8\"],[0.3333333333333333,\"#9c179e\"],[0.4444444444444444,\"#bd3786\"],[0.5555555555555556,\"#d8576b\"],[0.6666666666666666,\"#ed7953\"],[0.7777777777777778,\"#fb9f3a\"],[0.8888888888888888,\"#fdca26\"],[1.0,\"#f0f921\"]],\"type\":\"heatmap\"}],\"histogram2dcontour\":[{\"colorbar\":{\"outlinewidth\":0,\"ticks\":\"\"},\"colorscale\":[[0.0,\"#0d0887\"],[0.1111111111111111,\"#46039f\"],[0.2222222222222222,\"#7201a8\"],[0.3333333333333333,\"#9c179e\"],[0.4444444444444444,\"#bd3786\"],[0.5555555555555556,\"#d8576b\"],[0.6666666666666666,\"#ed7953\"],[0.7777777777777778,\"#fb9f3a\"],[0.8888888888888888,\"#fdca26\"],[1.0,\"#f0f921\"]],\"type\":\"histogram2dcontour\"}],\"histogram2d\":[{\"colorbar\":{\"outlinewidth\":0,\"ticks\":\"\"},\"colorscale\":[[0.0,\"#0d0887\"],[0.1111111111111111,\"#46039f\"],[0.2222222222222222,\"#7201a8\"],[0.3333333333333333,\"#9c179e\"],[0.4444444444444444,\"#bd3786\"],[0.5555555555555556,\"#d8576b\"],[0.6666666666666666,\"#ed7953\"],[0.7777777777777778,\"#fb9f3a\"],[0.8888888888888888,\"#fdca26\"],[1.0,\"#f0f921\"]],\"type\":\"histogram2d\"}],\"histogram\":[{\"marker\":{\"pattern\":{\"fillmode\":\"overlay\",\"size\":10,\"solidity\":0.2}},\"type\":\"histogram\"}],\"mesh3d\":[{\"colorbar\":{\"outlinewidth\":0,\"ticks\":\"\"},\"type\":\"mesh3d\"}],\"parcoords\":[{\"line\":{\"colorbar\":{\"outlinewidth\":0,\"ticks\":\"\"}},\"type\":\"parcoords\"}],\"pie\":[{\"automargin\":true,\"type\":\"pie\"}],\"scatter3d\":[{\"line\":{\"colorbar\":{\"outlinewidth\":0,\"ticks\":\"\"}},\"marker\":{\"colorbar\":{\"outlinewidth\":0,\"ticks\":\"\"}},\"type\":\"scatter3d\"}],\"scattercarpet\":[{\"marker\":{\"colorbar\":{\"outlinewidth\":0,\"ticks\":\"\"}},\"type\":\"scattercarpet\"}],\"scattergeo\":[{\"marker\":{\"colorbar\":{\"outlinewidth\":0,\"ticks\":\"\"}},\"type\":\"scattergeo\"}],\"scattergl\":[{\"marker\":{\"colorbar\":{\"outlinewidth\":0,\"ticks\":\"\"}},\"type\":\"scattergl\"}],\"scattermapbox\":[{\"marker\":{\"colorbar\":{\"outlinewidth\":0,\"ticks\":\"\"}},\"type\":\"scattermapbox\"}],\"scatterpolargl\":[{\"marker\":{\"colorbar\":{\"outlinewidth\":0,\"ticks\":\"\"}},\"type\":\"scatterpolargl\"}],\"scatterpolar\":[{\"marker\":{\"colorbar\":{\"outlinewidth\":0,\"ticks\":\"\"}},\"type\":\"scatterpolar\"}],\"scatter\":[{\"fillpattern\":{\"fillmode\":\"overlay\",\"size\":10,\"solidity\":0.2},\"type\":\"scatter\"}],\"scatterternary\":[{\"marker\":{\"colorbar\":{\"outlinewidth\":0,\"ticks\":\"\"}},\"type\":\"scatterternary\"}],\"surface\":[{\"colorbar\":{\"outlinewidth\":0,\"ticks\":\"\"},\"colorscale\":[[0.0,\"#0d0887\"],[0.1111111111111111,\"#46039f\"],[0.2222222222222222,\"#7201a8\"],[0.3333333333333333,\"#9c179e\"],[0.4444444444444444,\"#bd3786\"],[0.5555555555555556,\"#d8576b\"],[0.6666666666666666,\"#ed7953\"],[0.7777777777777778,\"#fb9f3a\"],[0.8888888888888888,\"#fdca26\"],[1.0,\"#f0f921\"]],\"type\":\"surface\"}],\"table\":[{\"cells\":{\"fill\":{\"color\":\"#EBF0F8\"},\"line\":{\"color\":\"white\"}},\"header\":{\"fill\":{\"color\":\"#C8D4E3\"},\"line\":{\"color\":\"white\"}},\"type\":\"table\"}]},\"layout\":{\"annotationdefaults\":{\"arrowcolor\":\"#2a3f5f\",\"arrowhead\":0,\"arrowwidth\":1},\"autotypenumbers\":\"strict\",\"coloraxis\":{\"colorbar\":{\"outlinewidth\":0,\"ticks\":\"\"}},\"colorscale\":{\"diverging\":[[0,\"#8e0152\"],[0.1,\"#c51b7d\"],[0.2,\"#de77ae\"],[0.3,\"#f1b6da\"],[0.4,\"#fde0ef\"],[0.5,\"#f7f7f7\"],[0.6,\"#e6f5d0\"],[0.7,\"#b8e186\"],[0.8,\"#7fbc41\"],[0.9,\"#4d9221\"],[1,\"#276419\"]],\"sequential\":[[0.0,\"#0d0887\"],[0.1111111111111111,\"#46039f\"],[0.2222222222222222,\"#7201a8\"],[0.3333333333333333,\"#9c179e\"],[0.4444444444444444,\"#bd3786\"],[0.5555555555555556,\"#d8576b\"],[0.6666666666666666,\"#ed7953\"],[0.7777777777777778,\"#fb9f3a\"],[0.8888888888888888,\"#fdca26\"],[1.0,\"#f0f921\"]],\"sequentialminus\":[[0.0,\"#0d0887\"],[0.1111111111111111,\"#46039f\"],[0.2222222222222222,\"#7201a8\"],[0.3333333333333333,\"#9c179e\"],[0.4444444444444444,\"#bd3786\"],[0.5555555555555556,\"#d8576b\"],[0.6666666666666666,\"#ed7953\"],[0.7777777777777778,\"#fb9f3a\"],[0.8888888888888888,\"#fdca26\"],[1.0,\"#f0f921\"]]},\"colorway\":[\"#636efa\",\"#EF553B\",\"#00cc96\",\"#ab63fa\",\"#FFA15A\",\"#19d3f3\",\"#FF6692\",\"#B6E880\",\"#FF97FF\",\"#FECB52\"],\"font\":{\"color\":\"#2a3f5f\"},\"geo\":{\"bgcolor\":\"white\",\"lakecolor\":\"white\",\"landcolor\":\"white\",\"showlakes\":true,\"showland\":true,\"subunitcolor\":\"#C8D4E3\"},\"hoverlabel\":{\"align\":\"left\"},\"hovermode\":\"closest\",\"mapbox\":{\"style\":\"light\"},\"paper_bgcolor\":\"white\",\"plot_bgcolor\":\"white\",\"polar\":{\"angularaxis\":{\"gridcolor\":\"#EBF0F8\",\"linecolor\":\"#EBF0F8\",\"ticks\":\"\"},\"bgcolor\":\"white\",\"radialaxis\":{\"gridcolor\":\"#EBF0F8\",\"linecolor\":\"#EBF0F8\",\"ticks\":\"\"}},\"scene\":{\"xaxis\":{\"backgroundcolor\":\"white\",\"gridcolor\":\"#DFE8F3\",\"gridwidth\":2,\"linecolor\":\"#EBF0F8\",\"showbackground\":true,\"ticks\":\"\",\"zerolinecolor\":\"#EBF0F8\"},\"yaxis\":{\"backgroundcolor\":\"white\",\"gridcolor\":\"#DFE8F3\",\"gridwidth\":2,\"linecolor\":\"#EBF0F8\",\"showbackground\":true,\"ticks\":\"\",\"zerolinecolor\":\"#EBF0F8\"},\"zaxis\":{\"backgroundcolor\":\"white\",\"gridcolor\":\"#DFE8F3\",\"gridwidth\":2,\"linecolor\":\"#EBF0F8\",\"showbackground\":true,\"ticks\":\"\",\"zerolinecolor\":\"#EBF0F8\"}},\"shapedefaults\":{\"line\":{\"color\":\"#2a3f5f\"}},\"ternary\":{\"aaxis\":{\"gridcolor\":\"#DFE8F3\",\"linecolor\":\"#A2B1C6\",\"ticks\":\"\"},\"baxis\":{\"gridcolor\":\"#DFE8F3\",\"linecolor\":\"#A2B1C6\",\"ticks\":\"\"},\"bgcolor\":\"white\",\"caxis\":{\"gridcolor\":\"#DFE8F3\",\"linecolor\":\"#A2B1C6\",\"ticks\":\"\"}},\"title\":{\"x\":0.05},\"xaxis\":{\"automargin\":true,\"gridcolor\":\"#EBF0F8\",\"linecolor\":\"#EBF0F8\",\"ticks\":\"\",\"title\":{\"standoff\":15},\"zerolinecolor\":\"#EBF0F8\",\"zerolinewidth\":2},\"yaxis\":{\"automargin\":true,\"gridcolor\":\"#EBF0F8\",\"linecolor\":\"#EBF0F8\",\"ticks\":\"\",\"title\":{\"standoff\":15},\"zerolinecolor\":\"#EBF0F8\",\"zerolinewidth\":2}}},\"title\":{\"text\":\"Training vs. Validation Loss\"},\"xaxis\":{\"title\":{\"text\":\"Epoch\"}},\"yaxis\":{\"title\":{\"text\":\"Loss\"}}},                        {\"responsive\": true}                    ).then(function(){\n",
       "                            \n",
       "var gd = document.getElementById('06c76b9a-4585-455b-9eaf-d888b187c542');\n",
       "var x = new MutationObserver(function (mutations, observer) {{\n",
       "        var display = window.getComputedStyle(gd).display;\n",
       "        if (!display || display === 'none') {{\n",
       "            console.log([gd, 'removed!']);\n",
       "            Plotly.purge(gd);\n",
       "            observer.disconnect();\n",
       "        }}\n",
       "}});\n",
       "\n",
       "// Listen for the removal of the full notebook cells\n",
       "var notebookContainer = gd.closest('#notebook-container');\n",
       "if (notebookContainer) {{\n",
       "    x.observe(notebookContainer, {childList: true});\n",
       "}}\n",
       "\n",
       "// Listen for the clearing of the current output cell\n",
       "var outputEl = gd.closest('.output');\n",
       "if (outputEl) {{\n",
       "    x.observe(outputEl, {childList: true});\n",
       "}}\n",
       "\n",
       "                        })                };                });            </script>        </div>"
      ]
     },
     "metadata": {},
     "output_type": "display_data"
    }
   ],
   "source": [
    "import plotly.graph_objects as go\n",
    "\n",
    "# Create traces\n",
    "fig = go.Figure()\n",
    "\n",
    "# Training vs. Validation Accuracy\n",
    "fig.add_trace(go.Scatter(x=list(range(1, len(history.history['accuracy']) + 1)), y=history.history['accuracy'], mode='lines+markers', name='Training Accuracy'))\n",
    "fig.add_trace(go.Scatter(x=list(range(1, len(history.history['val_accuracy']) + 1)), y=history.history['val_accuracy'], mode='lines+markers', name='Validation Accuracy'))\n",
    "\n",
    "# Layout for Accuracy\n",
    "fig.update_layout(title='Training vs. Validation Accuracy', xaxis_title='Epoch', yaxis_title='Accuracy', template=\"plotly_white\")\n",
    "\n",
    "# Show the plot\n",
    "fig.show()\n",
    "\n",
    "# New figure for loss\n",
    "fig = go.Figure()\n",
    "\n",
    "fig.add_trace(go.Scatter(x=list(range(1, len(history.history['loss']) + 1)), y=history.history['loss'], mode='lines+markers', name='Training Loss'))\n",
    "fig.add_trace(go.Scatter(x=list(range(1, len(history.history['val_loss']) + 1)), y=history.history['val_loss'], mode='lines+markers', name='Validation Loss'))\n",
    "\n",
    "# Layout for Loss\n",
    "fig.update_layout(title='Training vs. Validation Loss', xaxis_title='Epoch', yaxis_title='Loss', template=\"plotly_white\")\n",
    "\n",
    "# Show the plot\n",
    "fig.show()"
   ]
  }
 ],
 "metadata": {
  "kernelspec": {
   "display_name": "Python 3 (ipykernel)",
   "language": "python",
   "name": "python3"
  },
  "language_info": {
   "codemirror_mode": {
    "name": "ipython",
    "version": 3
   },
   "file_extension": ".py",
   "mimetype": "text/x-python",
   "name": "python",
   "nbconvert_exporter": "python",
   "pygments_lexer": "ipython3",
   "version": "3.11.4"
  }
 },
 "nbformat": 4,
 "nbformat_minor": 5
}
